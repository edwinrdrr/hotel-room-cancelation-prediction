{
 "cells": [
  {
   "cell_type": "markdown",
   "id": "eca7dafa-9208-45e1-85ab-10f2ea5d2802",
   "metadata": {},
   "source": [
    "Link Huggingface: \n",
    "https://huggingface.co/spaces/edwinrdrr/P1M2"
   ]
  },
  {
   "cell_type": "markdown",
   "id": "958ce7c0-f89a-4745-8148-7f1317b48360",
   "metadata": {},
   "source": [
    "# Perkenalan"
   ]
  },
  {
   "cell_type": "markdown",
   "id": "cad849f0-2500-4318-91c3-619458a94132",
   "metadata": {},
   "source": [
    "## Perkenalan Diri"
   ]
  },
  {
   "cell_type": "markdown",
   "id": "f484e445-cead-46e5-b0b1-4014c0e39431",
   "metadata": {},
   "source": [
    "Nama : Edwin Reyhan Devara Ramadhan Rasya  \n",
    "Batch : FTDS-017-RMT"
   ]
  },
  {
   "cell_type": "markdown",
   "id": "893a9d74-42f6-40ea-bfd5-f5b5e078c39e",
   "metadata": {
    "tags": []
   },
   "source": [
    "## Pengenalan Dataset"
   ]
  },
  {
   "cell_type": "markdown",
   "id": "4a794bdc-7d7c-41ce-be10-e1834320d812",
   "metadata": {},
   "source": [
    "Dataset yang kita pakai adalah data pemesan kamar hotel yang terdiri dari id booking kamar, jumlah orang dewasa dan anak kecil yang akan menginap, jenis makanan yang diinginkan dan lain-lain. Dataset ini memiliki 19 informasi (features) dari 36275 pemesan (observations atau rows). Dataset ini diperuntukkan untuk melakukan klasifikasi apakah pemesan melakukan pembatalan kamar atau tidak."
   ]
  },
  {
   "cell_type": "markdown",
   "id": "7d8e82de-b255-4f99-9fce-ef817d61722e",
   "metadata": {},
   "source": [
    "* Booking_ID: unique identifier of each booking\n",
    "* no_of_adults: Number of adults\n",
    "* no_of_children: Number of Children\n",
    "* no_of_weekend_nights: Number of weekend nights (Saturday or Sunday) the guest stayed or booked to stay at the hotel\n",
    "* no_of_week_nights: Number of week nights (Monday to Friday) the guest stayed or booked to stay at the hotel\n",
    "* type_of_meal_plan: Type of meal plan booked by the customer:\n",
    "* required_car_parking_space: Does the customer require a car parking space? (0 - No, 1- Yes)\n",
    "* room_type_reserved: Type of room reserved by the customer. The values are ciphered (encoded) by INN Hotels.\n",
    "* lead_time: Number of days between the date of booking and the arrival date\n",
    "* arrival_year: Year of arrival date\n",
    "* arrival_month: Month of arrival date\n",
    "* arrival_date: Date of the month\n",
    "* market_segment_type: Market segment designation.\n",
    "* repeated_guest: Is the customer a repeated guest? (0 - No, 1- Yes)\n",
    "* no_of_previous_cancellations: Number of previous bookings that were canceled by the customer prior to the current booking\n",
    "* no_of_previous_bookings_not_canceled: Number of previous bookings not canceled by the customer prior to the current booking\n",
    "* avg_price_per_room: Average price per day of the reservation; prices of the rooms are dynamic. (in euros)\n",
    "* no_of_special_requests: Total number of special requests made by the customer (e.g. high floor, view from the room, etc)\n",
    "* booking_status: Flag indicating if the booking was canceled or not.\n",
    "\n",
    "Dataset dan pendefinisian features diambil dari:  \n",
    "https://www.kaggle.com/datasets/ahsan81/hotel-reservations-classification-dataset"
   ]
  },
  {
   "cell_type": "markdown",
   "id": "7f8af95d-7304-428a-86e8-367c57565630",
   "metadata": {},
   "source": [
    "## Objective"
   ]
  },
  {
   "cell_type": "markdown",
   "id": "aaa6e8b7-2b00-492d-91ab-ecca5f3b708b",
   "metadata": {},
   "source": [
    "Hotel sudah sering kali mengalami kerugian karena pemesan kamar yang secara tiba-tiba melakukan pembatalan terhadap kamar yang dipesan. Kita sebagai data scientist perusahaan hotel ini ingin mencari tahu apa penyebab dari pembatalan itu dan memprediksi apakah seorang pemesan kamar akan melakukan pembatalan kamar atau tidak. Hal ini dapat kita lakukan dengan membuat sebuah model yang akan melakukan klasifikasi apakah seseorang yang baru saja pesan kamar akan melakukan pembatalan atau tidak di kemudian hari. Karena kita ingin menekan angka kerugian yang disebabkan oleh pemesan kamar melakukan pembatalan, kita menginginkan model kita akurat dalam melakukan prediksi terhadap orang yang akan melakukan pembatalan dan orang-orang yang melakukan pembatalan tersebut tidak terklasifikasikan sebagai orang yang tidak akan melakukan pembatalan (**False Negative**), yang mana akan menyebabkan kerugian di kemudian hari.   \n",
    "Maka dari itu, kita akan membuat sebuah model yang mempunyai score recall tinggi dan dapat menekan jumlah orang masuk False Negative. Namun kita juga tidak ingin mempunyai False Positive yang terlalu banyak juga, karena ketika kita melakukan klarifikasi akan membuat hotel kita menggangu pemesan kamar yang sebenarnya tidak akan melakukan pembatalan.    \n",
    "Fokus Metric : False Negative dan Recall"
   ]
  },
  {
   "cell_type": "markdown",
   "id": "689b3639-6ca0-4e6b-a068-929d9007413b",
   "metadata": {},
   "source": [
    "# Import Libraries"
   ]
  },
  {
   "cell_type": "code",
   "execution_count": 1,
   "id": "245a136e-b406-4334-90cc-ee24350d088d",
   "metadata": {},
   "outputs": [],
   "source": [
    "# Importing Libraries\n",
    "import pandas as pd\n",
    "import numpy as np\n",
    "import matplotlib.pyplot as plt\n",
    "import seaborn as sns\n",
    "import scipy.stats as st\n",
    "import pickle\n",
    "import json\n",
    "from sklearn.model_selection import train_test_split, cross_val_score, StratifiedKFold, GridSearchCV\n",
    "from sklearn.preprocessing import OneHotEncoder, OrdinalEncoder, LabelEncoder, StandardScaler, LabelBinarizer\n",
    "from sklearn.pipeline import make_pipeline, Pipeline\n",
    "from sklearn.compose import make_column_transformer, ColumnTransformer\n",
    "from sklearn.linear_model import LogisticRegression\n",
    "from sklearn.neighbors import KNeighborsClassifier\n",
    "from sklearn.naive_bayes import GaussianNB, BernoulliNB, MultinomialNB, CategoricalNB, ComplementNB, ClassifierMixin\n",
    "from sklearn.svm import SVC, OneClassSVM\n",
    "from sklearn.tree import DecisionTreeClassifier\n",
    "from sklearn.ensemble import RandomForestClassifier, AdaBoostClassifier\n",
    "from sklearn.metrics import recall_score, precision_score, classification_report, confusion_matrix, make_scorer, f1_score\n",
    "from sklearn.feature_selection import SelectKBest, f_classif, chi2"
   ]
  },
  {
   "cell_type": "markdown",
   "id": "0c6848b8-5ab2-455d-b59c-63183b4e4bb6",
   "metadata": {},
   "source": [
    "# Data Loading"
   ]
  },
  {
   "cell_type": "code",
   "execution_count": 2,
   "id": "9ffab551-fa72-4575-85f8-a7e27baedd79",
   "metadata": {},
   "outputs": [
    {
     "data": {
      "text/html": [
       "<div>\n",
       "<style scoped>\n",
       "    .dataframe tbody tr th:only-of-type {\n",
       "        vertical-align: middle;\n",
       "    }\n",
       "\n",
       "    .dataframe tbody tr th {\n",
       "        vertical-align: top;\n",
       "    }\n",
       "\n",
       "    .dataframe thead th {\n",
       "        text-align: right;\n",
       "    }\n",
       "</style>\n",
       "<table border=\"1\" class=\"dataframe\">\n",
       "  <thead>\n",
       "    <tr style=\"text-align: right;\">\n",
       "      <th></th>\n",
       "      <th>Booking_ID</th>\n",
       "      <th>no_of_adults</th>\n",
       "      <th>no_of_children</th>\n",
       "      <th>no_of_weekend_nights</th>\n",
       "      <th>no_of_week_nights</th>\n",
       "      <th>type_of_meal_plan</th>\n",
       "      <th>required_car_parking_space</th>\n",
       "      <th>room_type_reserved</th>\n",
       "      <th>lead_time</th>\n",
       "      <th>arrival_year</th>\n",
       "      <th>arrival_month</th>\n",
       "      <th>arrival_date</th>\n",
       "      <th>market_segment_type</th>\n",
       "      <th>repeated_guest</th>\n",
       "      <th>no_of_previous_cancellations</th>\n",
       "      <th>no_of_previous_bookings_not_canceled</th>\n",
       "      <th>avg_price_per_room</th>\n",
       "      <th>no_of_special_requests</th>\n",
       "      <th>booking_status</th>\n",
       "    </tr>\n",
       "  </thead>\n",
       "  <tbody>\n",
       "    <tr>\n",
       "      <th>0</th>\n",
       "      <td>INN00001</td>\n",
       "      <td>2</td>\n",
       "      <td>0</td>\n",
       "      <td>1</td>\n",
       "      <td>2</td>\n",
       "      <td>Meal Plan 1</td>\n",
       "      <td>0</td>\n",
       "      <td>Room_Type 1</td>\n",
       "      <td>224</td>\n",
       "      <td>2017</td>\n",
       "      <td>10</td>\n",
       "      <td>2</td>\n",
       "      <td>Offline</td>\n",
       "      <td>0</td>\n",
       "      <td>0</td>\n",
       "      <td>0</td>\n",
       "      <td>65.00</td>\n",
       "      <td>0</td>\n",
       "      <td>Not_Canceled</td>\n",
       "    </tr>\n",
       "    <tr>\n",
       "      <th>1</th>\n",
       "      <td>INN00002</td>\n",
       "      <td>2</td>\n",
       "      <td>0</td>\n",
       "      <td>2</td>\n",
       "      <td>3</td>\n",
       "      <td>Not Selected</td>\n",
       "      <td>0</td>\n",
       "      <td>Room_Type 1</td>\n",
       "      <td>5</td>\n",
       "      <td>2018</td>\n",
       "      <td>11</td>\n",
       "      <td>6</td>\n",
       "      <td>Online</td>\n",
       "      <td>0</td>\n",
       "      <td>0</td>\n",
       "      <td>0</td>\n",
       "      <td>106.68</td>\n",
       "      <td>1</td>\n",
       "      <td>Not_Canceled</td>\n",
       "    </tr>\n",
       "    <tr>\n",
       "      <th>2</th>\n",
       "      <td>INN00003</td>\n",
       "      <td>1</td>\n",
       "      <td>0</td>\n",
       "      <td>2</td>\n",
       "      <td>1</td>\n",
       "      <td>Meal Plan 1</td>\n",
       "      <td>0</td>\n",
       "      <td>Room_Type 1</td>\n",
       "      <td>1</td>\n",
       "      <td>2018</td>\n",
       "      <td>2</td>\n",
       "      <td>28</td>\n",
       "      <td>Online</td>\n",
       "      <td>0</td>\n",
       "      <td>0</td>\n",
       "      <td>0</td>\n",
       "      <td>60.00</td>\n",
       "      <td>0</td>\n",
       "      <td>Canceled</td>\n",
       "    </tr>\n",
       "    <tr>\n",
       "      <th>3</th>\n",
       "      <td>INN00004</td>\n",
       "      <td>2</td>\n",
       "      <td>0</td>\n",
       "      <td>0</td>\n",
       "      <td>2</td>\n",
       "      <td>Meal Plan 1</td>\n",
       "      <td>0</td>\n",
       "      <td>Room_Type 1</td>\n",
       "      <td>211</td>\n",
       "      <td>2018</td>\n",
       "      <td>5</td>\n",
       "      <td>20</td>\n",
       "      <td>Online</td>\n",
       "      <td>0</td>\n",
       "      <td>0</td>\n",
       "      <td>0</td>\n",
       "      <td>100.00</td>\n",
       "      <td>0</td>\n",
       "      <td>Canceled</td>\n",
       "    </tr>\n",
       "    <tr>\n",
       "      <th>4</th>\n",
       "      <td>INN00005</td>\n",
       "      <td>2</td>\n",
       "      <td>0</td>\n",
       "      <td>1</td>\n",
       "      <td>1</td>\n",
       "      <td>Not Selected</td>\n",
       "      <td>0</td>\n",
       "      <td>Room_Type 1</td>\n",
       "      <td>48</td>\n",
       "      <td>2018</td>\n",
       "      <td>4</td>\n",
       "      <td>11</td>\n",
       "      <td>Online</td>\n",
       "      <td>0</td>\n",
       "      <td>0</td>\n",
       "      <td>0</td>\n",
       "      <td>94.50</td>\n",
       "      <td>0</td>\n",
       "      <td>Canceled</td>\n",
       "    </tr>\n",
       "  </tbody>\n",
       "</table>\n",
       "</div>"
      ],
      "text/plain": [
       "  Booking_ID  no_of_adults  no_of_children  no_of_weekend_nights  \\\n",
       "0   INN00001             2               0                     1   \n",
       "1   INN00002             2               0                     2   \n",
       "2   INN00003             1               0                     2   \n",
       "3   INN00004             2               0                     0   \n",
       "4   INN00005             2               0                     1   \n",
       "\n",
       "   no_of_week_nights type_of_meal_plan  required_car_parking_space  \\\n",
       "0                  2       Meal Plan 1                           0   \n",
       "1                  3      Not Selected                           0   \n",
       "2                  1       Meal Plan 1                           0   \n",
       "3                  2       Meal Plan 1                           0   \n",
       "4                  1      Not Selected                           0   \n",
       "\n",
       "  room_type_reserved  lead_time  arrival_year  arrival_month  arrival_date  \\\n",
       "0        Room_Type 1        224          2017             10             2   \n",
       "1        Room_Type 1          5          2018             11             6   \n",
       "2        Room_Type 1          1          2018              2            28   \n",
       "3        Room_Type 1        211          2018              5            20   \n",
       "4        Room_Type 1         48          2018              4            11   \n",
       "\n",
       "  market_segment_type  repeated_guest  no_of_previous_cancellations  \\\n",
       "0             Offline               0                             0   \n",
       "1              Online               0                             0   \n",
       "2              Online               0                             0   \n",
       "3              Online               0                             0   \n",
       "4              Online               0                             0   \n",
       "\n",
       "   no_of_previous_bookings_not_canceled  avg_price_per_room  \\\n",
       "0                                     0               65.00   \n",
       "1                                     0              106.68   \n",
       "2                                     0               60.00   \n",
       "3                                     0              100.00   \n",
       "4                                     0               94.50   \n",
       "\n",
       "   no_of_special_requests booking_status  \n",
       "0                       0   Not_Canceled  \n",
       "1                       1   Not_Canceled  \n",
       "2                       0       Canceled  \n",
       "3                       0       Canceled  \n",
       "4                       0       Canceled  "
      ]
     },
     "execution_count": 2,
     "metadata": {},
     "output_type": "execute_result"
    }
   ],
   "source": [
    "# Data loading with read_csv\n",
    "data_raw = pd.read_csv('Hotel Reservations.csv')\n",
    "data_raw.head()"
   ]
  },
  {
   "cell_type": "code",
   "execution_count": 3,
   "id": "66b8bf94-8e1b-4cf1-a160-2d28f8a3ce6d",
   "metadata": {},
   "outputs": [
    {
     "name": "stdout",
     "output_type": "stream",
     "text": [
      "<class 'pandas.core.frame.DataFrame'>\n",
      "RangeIndex: 36275 entries, 0 to 36274\n",
      "Data columns (total 19 columns):\n",
      " #   Column                                Non-Null Count  Dtype  \n",
      "---  ------                                --------------  -----  \n",
      " 0   Booking_ID                            36275 non-null  object \n",
      " 1   no_of_adults                          36275 non-null  int64  \n",
      " 2   no_of_children                        36275 non-null  int64  \n",
      " 3   no_of_weekend_nights                  36275 non-null  int64  \n",
      " 4   no_of_week_nights                     36275 non-null  int64  \n",
      " 5   type_of_meal_plan                     36275 non-null  object \n",
      " 6   required_car_parking_space            36275 non-null  int64  \n",
      " 7   room_type_reserved                    36275 non-null  object \n",
      " 8   lead_time                             36275 non-null  int64  \n",
      " 9   arrival_year                          36275 non-null  int64  \n",
      " 10  arrival_month                         36275 non-null  int64  \n",
      " 11  arrival_date                          36275 non-null  int64  \n",
      " 12  market_segment_type                   36275 non-null  object \n",
      " 13  repeated_guest                        36275 non-null  int64  \n",
      " 14  no_of_previous_cancellations          36275 non-null  int64  \n",
      " 15  no_of_previous_bookings_not_canceled  36275 non-null  int64  \n",
      " 16  avg_price_per_room                    36275 non-null  float64\n",
      " 17  no_of_special_requests                36275 non-null  int64  \n",
      " 18  booking_status                        36275 non-null  object \n",
      "dtypes: float64(1), int64(13), object(5)\n",
      "memory usage: 5.3+ MB\n"
     ]
    }
   ],
   "source": [
    "# melihat jumlah rows, columns, dan data typenya\n",
    "data_raw.info()"
   ]
  },
  {
   "cell_type": "markdown",
   "id": "8f4c9181-b17d-48e3-baee-89e2348d107c",
   "metadata": {},
   "source": [
    "# EDA"
   ]
  },
  {
   "cell_type": "code",
   "execution_count": 4,
   "id": "3d5fc452-2942-4401-978d-bf81e07f213e",
   "metadata": {},
   "outputs": [],
   "source": [
    "# copy data for eda purpose\n",
    "data_eda = data_raw.copy()"
   ]
  },
  {
   "cell_type": "markdown",
   "id": "53b42a7f-f1c3-47db-a45b-2ac8f69fb6da",
   "metadata": {},
   "source": [
    "## Check numerical and categorical features"
   ]
  },
  {
   "cell_type": "code",
   "execution_count": 5,
   "id": "9e376043-8e8e-4372-9804-c461fa95e885",
   "metadata": {},
   "outputs": [
    {
     "data": {
      "text/html": [
       "<div>\n",
       "<style scoped>\n",
       "    .dataframe tbody tr th:only-of-type {\n",
       "        vertical-align: middle;\n",
       "    }\n",
       "\n",
       "    .dataframe tbody tr th {\n",
       "        vertical-align: top;\n",
       "    }\n",
       "\n",
       "    .dataframe thead th {\n",
       "        text-align: right;\n",
       "    }\n",
       "</style>\n",
       "<table border=\"1\" class=\"dataframe\">\n",
       "  <thead>\n",
       "    <tr style=\"text-align: right;\">\n",
       "      <th></th>\n",
       "      <th>no_of_adults</th>\n",
       "      <th>no_of_children</th>\n",
       "      <th>no_of_weekend_nights</th>\n",
       "      <th>no_of_week_nights</th>\n",
       "      <th>required_car_parking_space</th>\n",
       "      <th>lead_time</th>\n",
       "      <th>arrival_year</th>\n",
       "      <th>arrival_month</th>\n",
       "      <th>arrival_date</th>\n",
       "      <th>repeated_guest</th>\n",
       "      <th>no_of_previous_cancellations</th>\n",
       "      <th>no_of_previous_bookings_not_canceled</th>\n",
       "      <th>avg_price_per_room</th>\n",
       "      <th>no_of_special_requests</th>\n",
       "    </tr>\n",
       "  </thead>\n",
       "  <tbody>\n",
       "    <tr>\n",
       "      <th>0</th>\n",
       "      <td>2</td>\n",
       "      <td>0</td>\n",
       "      <td>1</td>\n",
       "      <td>2</td>\n",
       "      <td>0</td>\n",
       "      <td>224</td>\n",
       "      <td>2017</td>\n",
       "      <td>10</td>\n",
       "      <td>2</td>\n",
       "      <td>0</td>\n",
       "      <td>0</td>\n",
       "      <td>0</td>\n",
       "      <td>65.00</td>\n",
       "      <td>0</td>\n",
       "    </tr>\n",
       "    <tr>\n",
       "      <th>1</th>\n",
       "      <td>2</td>\n",
       "      <td>0</td>\n",
       "      <td>2</td>\n",
       "      <td>3</td>\n",
       "      <td>0</td>\n",
       "      <td>5</td>\n",
       "      <td>2018</td>\n",
       "      <td>11</td>\n",
       "      <td>6</td>\n",
       "      <td>0</td>\n",
       "      <td>0</td>\n",
       "      <td>0</td>\n",
       "      <td>106.68</td>\n",
       "      <td>1</td>\n",
       "    </tr>\n",
       "  </tbody>\n",
       "</table>\n",
       "</div>"
      ],
      "text/plain": [
       "   no_of_adults  no_of_children  no_of_weekend_nights  no_of_week_nights  \\\n",
       "0             2               0                     1                  2   \n",
       "1             2               0                     2                  3   \n",
       "\n",
       "   required_car_parking_space  lead_time  arrival_year  arrival_month  \\\n",
       "0                           0        224          2017             10   \n",
       "1                           0          5          2018             11   \n",
       "\n",
       "   arrival_date  repeated_guest  no_of_previous_cancellations  \\\n",
       "0             2               0                             0   \n",
       "1             6               0                             0   \n",
       "\n",
       "   no_of_previous_bookings_not_canceled  avg_price_per_room  \\\n",
       "0                                     0               65.00   \n",
       "1                                     0              106.68   \n",
       "\n",
       "   no_of_special_requests  \n",
       "0                       0  \n",
       "1                       1  "
      ]
     },
     "execution_count": 5,
     "metadata": {},
     "output_type": "execute_result"
    }
   ],
   "source": [
    "data_eda.select_dtypes(include=np.number).head(2)"
   ]
  },
  {
   "cell_type": "markdown",
   "id": "2c466321-09ee-45ce-91d9-7387283c7249",
   "metadata": {},
   "source": [
    "**Discrete Features (Feature yang nilainya dapat dihitung bulat)**:  \n",
    "'no_of_adults', 'no_of_children', 'no_of_weekend_nights', 'no_of_week_nights', 'arrival_year', 'arrival_month', 'arrival_date','no_of_previous_cancellations', 'no_of_previous_bookings_not_canceled', 'no_of_special_requests', 'lead_time'.  "
   ]
  },
  {
   "cell_type": "markdown",
   "id": "471161e3-2331-49e4-b519-66204f818db8",
   "metadata": {},
   "source": [
    "**Continuous Features (Feature yang nilainya sangat detail dengan angka yang lebih spesifik di belakang koma)**:  \n",
    "'avg_price_per_room'"
   ]
  },
  {
   "cell_type": "markdown",
   "id": "4e841d06-f74b-49bf-89d0-6d110a8e729f",
   "metadata": {},
   "source": [
    "**Numerical Features that are encoded (binary yes/no, nilainya mempunyai level namun tidak bisa ditambah maupun dikurang, tapi nilai feature ini sudah berbentuk angka)**:  \n",
    "'required_car_parking_space', 'repeated_guest'"
   ]
  },
  {
   "cell_type": "code",
   "execution_count": 6,
   "id": "4ac23925-ee91-4544-bbe2-b385510253c3",
   "metadata": {},
   "outputs": [
    {
     "data": {
      "text/html": [
       "<div>\n",
       "<style scoped>\n",
       "    .dataframe tbody tr th:only-of-type {\n",
       "        vertical-align: middle;\n",
       "    }\n",
       "\n",
       "    .dataframe tbody tr th {\n",
       "        vertical-align: top;\n",
       "    }\n",
       "\n",
       "    .dataframe thead th {\n",
       "        text-align: right;\n",
       "    }\n",
       "</style>\n",
       "<table border=\"1\" class=\"dataframe\">\n",
       "  <thead>\n",
       "    <tr style=\"text-align: right;\">\n",
       "      <th></th>\n",
       "      <th>Booking_ID</th>\n",
       "      <th>type_of_meal_plan</th>\n",
       "      <th>room_type_reserved</th>\n",
       "      <th>market_segment_type</th>\n",
       "      <th>booking_status</th>\n",
       "    </tr>\n",
       "  </thead>\n",
       "  <tbody>\n",
       "    <tr>\n",
       "      <th>0</th>\n",
       "      <td>INN00001</td>\n",
       "      <td>Meal Plan 1</td>\n",
       "      <td>Room_Type 1</td>\n",
       "      <td>Offline</td>\n",
       "      <td>Not_Canceled</td>\n",
       "    </tr>\n",
       "    <tr>\n",
       "      <th>1</th>\n",
       "      <td>INN00002</td>\n",
       "      <td>Not Selected</td>\n",
       "      <td>Room_Type 1</td>\n",
       "      <td>Online</td>\n",
       "      <td>Not_Canceled</td>\n",
       "    </tr>\n",
       "  </tbody>\n",
       "</table>\n",
       "</div>"
      ],
      "text/plain": [
       "  Booking_ID type_of_meal_plan room_type_reserved market_segment_type  \\\n",
       "0   INN00001       Meal Plan 1        Room_Type 1             Offline   \n",
       "1   INN00002      Not Selected        Room_Type 1              Online   \n",
       "\n",
       "  booking_status  \n",
       "0   Not_Canceled  \n",
       "1   Not_Canceled  "
      ]
     },
     "execution_count": 6,
     "metadata": {},
     "output_type": "execute_result"
    }
   ],
   "source": [
    "data_eda.select_dtypes(include='object').head(2)"
   ]
  },
  {
   "cell_type": "markdown",
   "id": "cf2c175a-bb1a-461a-b263-ed59bae75527",
   "metadata": {},
   "source": [
    "**Nominal category (Nilai yang tidak punya level)**:  \n",
    "'Booking_ID'  \n",
    "\n",
    "'Booking_ID' akan dihapus karena tidak dapat melakukan prediksi disebabkan oleh booking_id punya nilai yang berbeda semua."
   ]
  },
  {
   "cell_type": "markdown",
   "id": "a1eede94-4afd-4a09-8bbc-3ab711a11b75",
   "metadata": {},
   "source": [
    "**Ordinal category (Nilai yang punya level)**:  \n",
    "'type_of_meal_plan', 'room_type_reserved', 'market_segment_type', 'booking_status'  \n",
    "\n",
    "Feature-feature ini disebut ordinal karena:\n",
    "* type of meal punya level harga\n",
    "* room type juga mempunyai level harga\n",
    "* market segment juga punya level harga"
   ]
  },
  {
   "cell_type": "markdown",
   "id": "1349d077-b959-4f8b-b9da-a19119873625",
   "metadata": {},
   "source": [
    "## Visualize Discrete Features"
   ]
  },
  {
   "cell_type": "code",
   "execution_count": 7,
   "id": "cac3fc38",
   "metadata": {},
   "outputs": [],
   "source": [
    "num_discrete = ['no_of_adults', 'no_of_children', 'no_of_weekend_nights', 'no_of_week_nights', 'arrival_year', 'arrival_month', 'arrival_date','no_of_previous_cancellations', 'no_of_special_requests']"
   ]
  },
  {
   "cell_type": "code",
   "execution_count": 8,
   "id": "6d90d797-3c66-4f9e-a9e7-332d989a7d85",
   "metadata": {},
   "outputs": [],
   "source": [
    "# dipisah karena punya sum x yang panjang\n",
    "num_discrete_separate = ['no_of_previous_bookings_not_canceled', 'lead_time']"
   ]
  },
  {
   "cell_type": "code",
   "execution_count": 9,
   "id": "d1137193",
   "metadata": {},
   "outputs": [],
   "source": [
    "data_discrete = data_eda[num_discrete]"
   ]
  },
  {
   "cell_type": "code",
   "execution_count": 10,
   "id": "f0f9b0f4",
   "metadata": {},
   "outputs": [
    {
     "data": {
      "image/png": "[encoded data removed]",
      "text/plain": [
       "<Figure size 1500x2000 with 10 Axes>"
      ]
     },
     "metadata": {},
     "output_type": "display_data"
    }
   ],
   "source": [
    "# melakukan visualisasi discrete numerical \n",
    "fig, axes = plt.subplots(5, 2, figsize=(15, 20))\n",
    "fig.suptitle('Discrete Features')\n",
    "\n",
    "\n",
    "for i, x in zip(range(0,2),range(0,2)):\n",
    "    sns.countplot(ax=axes[0,i], data=data_eda, x=num_discrete[x], hue='booking_status')\n",
    "\n",
    "for i, x in zip(range(0,2),range(2,4)):\n",
    "    sns.countplot(ax=axes[1,i], data=data_eda, x=num_discrete[x], hue='booking_status')\n",
    "\n",
    "for i, x in zip(range(0,2),range(4,6)):\n",
    "    sns.countplot(ax=axes[2,i], data=data_eda, x=num_discrete[x], hue='booking_status')\n",
    "\n",
    "for i, x in zip(range(0,2),range(6,8)):\n",
    "    sns.countplot(ax=axes[3,i], data=data_eda, x=num_discrete[x], hue='booking_status')\n",
    "\n",
    "for i, x in zip(range(0,2),range(8,9)):\n",
    "    sns.countplot(ax=axes[4,i], data=data_eda, x=num_discrete[x], hue='booking_status')\n",
    "\n",
    "    \n",
    "fig.tight_layout()"
   ]
  },
  {
   "cell_type": "markdown",
   "id": "2a4eb988-ab21-40f0-b122-075e5d860fa9",
   "metadata": {},
   "source": [
    "Informasi mengenai berapa orang dewasa, anak-anak, apakah pesanan kamar ada di malam weekend, apakah di malam hari biasa, tahun, bulan, hari pesanan, apakah pemesan pernah melakukan pembatalan, dan apakah ada request khusus untuk pesanan tersebut seperti viewnya bagus, dll. tidak bisa membedakan apakah pemesan kamar akan melakukan pembatalan atau tidak. Hal ini ditunjukkan oleh tidak adanya perubahan pada grafik chart feature-feature tersebut, seperti semakin tinggi banyak orang dewasa yang menginap semakin tinggi kasus pembatalan dibandingkan tidak ada pembatalan. Sedangkan untuk feature-feature di atas, figure jumlah tidak melakukan pembatalan selalu berjumlah lebih besar dibandingkan jumlah melakukan pembatalan."
   ]
  },
  {
   "cell_type": "markdown",
   "id": "ce671402-043a-476a-a809-106276d75cbe",
   "metadata": {},
   "source": [
    "### Visualize previous booking not canceled and lead time separately"
   ]
  },
  {
   "cell_type": "code",
   "execution_count": 11,
   "id": "42ea9e47-0153-43f6-b98a-8ae51425db01",
   "metadata": {},
   "outputs": [
    {
     "data": {
      "image/png": "[encoded data removed]",
      "text/plain": [
       "<Figure size 1500x500 with 1 Axes>"
      ]
     },
     "metadata": {},
     "output_type": "display_data"
    }
   ],
   "source": [
    "fig, ax = plt.subplots()\n",
    "fig.set_size_inches(15, 5)\n",
    "sns.countplot(ax=ax, data=data_eda, x=data_eda['no_of_previous_bookings_not_canceled'], hue='booking_status');"
   ]
  },
  {
   "cell_type": "markdown",
   "id": "b8ac73e8-7f8f-49a6-a23e-5fef68b56525",
   "metadata": {},
   "source": [
    "Informasi apakah pemesan tidak pernah melakukan pembatalan terhadap pesanan-pesanan sebelumnya juga terlihat tidak dapat melakukan klasifikasi apakah pemesan melakukan pembatalan atau tidak."
   ]
  },
  {
   "cell_type": "code",
   "execution_count": 12,
   "id": "9410fd22-458c-40ec-9813-2093b30cafae",
   "metadata": {},
   "outputs": [
    {
     "data": {
      "image/png": "[encoded data removed]",
      "text/plain": [
       "<Figure size 1500x500 with 1 Axes>"
      ]
     },
     "metadata": {},
     "output_type": "display_data"
    }
   ],
   "source": [
    "fig, ax = plt.subplots()\n",
    "fig.set_size_inches(15, 5)\n",
    "sns.countplot(ax=ax, data=data_eda, x=data_eda['lead_time'], hue='booking_status')\n",
    "ax.set_xticks(ax.get_xticks()[::15]);"
   ]
  },
  {
   "cell_type": "markdown",
   "id": "1e20e016-906c-4348-bcdf-ff44b849ea17",
   "metadata": {},
   "source": [
    "Informasi jarak antara hari pemesanan dan hari menginap terlihat dapat melakukan klasifikasi apakah pemesan melakukan pembatalan atau tidak. Hal ini ditunjukkan oleh semakin jauh hari pemesanan dilakukan dari hari menginap, semakin besar pula kasus dimana pembatalan lebih banyak dari pada tidak melakukan pembatalan. Hal ini mungkin sering disebabkan oleh jadwal pemesan yang berubah, ada perubahan rencana, pemesan lupa, dll. Rekomendasi penulis terhadap perusahaan adalah sebaiknya pesanan-pesanan dengan jarak antara hari pemesanan dan menginap yang jauh dijadwalkan akan dihubungi untuk melakukan konfirmasi apakah jadi menginap di hari itu atau tidak. Jika tidak, kita bisa langsung merubah status kamar menjadi available pada hari itu."
   ]
  },
  {
   "cell_type": "markdown",
   "id": "038ee45c-501d-4d08-bba8-9d9f625e10b2",
   "metadata": {},
   "source": [
    "## Visualize Continuous Features"
   ]
  },
  {
   "cell_type": "code",
   "execution_count": 13,
   "id": "2f525819-ee60-49e7-8772-0f294b0d5765",
   "metadata": {},
   "outputs": [
    {
     "data": {
      "image/png": "[encoded data removed]",
      "text/plain": [
       "<Figure size 1500x500 with 1 Axes>"
      ]
     },
     "metadata": {},
     "output_type": "display_data"
    }
   ],
   "source": [
    "fig, ax = plt.subplots()\n",
    "fig.set_size_inches(15, 5)\n",
    "sns.boxplot(ax=ax, x=data_eda['booking_status'], y=data_eda['avg_price_per_room']);"
   ]
  },
  {
   "cell_type": "markdown",
   "id": "ead5cda6-7565-4109-ae00-cae9f04e6d7b",
   "metadata": {},
   "source": [
    "Distribusi harga kamar yang dipesan oleh penginap melakukan pembatalan dan tidak adalah hampir sama. Hal ini menunjukkan bahwa harga kamar tidak dapat melakukan klasifikasi apakah pemesan melakukan pembatalan atau tidak."
   ]
  },
  {
   "cell_type": "markdown",
   "id": "642b7360-a091-42c6-96e0-431d82abba0c",
   "metadata": {},
   "source": [
    "# Feature Engineering"
   ]
  },
  {
   "cell_type": "code",
   "execution_count": 14,
   "id": "dc905edf-b963-4046-ad48-dcf30a052fd3",
   "metadata": {},
   "outputs": [],
   "source": [
    "# copy data for making machine learning\n",
    "data = data_raw.copy()"
   ]
  },
  {
   "cell_type": "markdown",
   "id": "fd43d251-ef94-442a-9d38-ab567351f799",
   "metadata": {},
   "source": [
    "## Train Test Split"
   ]
  },
  {
   "cell_type": "code",
   "execution_count": 15,
   "id": "1b085ae2-5b5d-49a8-b7b4-8574f82d2c2c",
   "metadata": {},
   "outputs": [],
   "source": [
    "# split data to X and y\n",
    "X = data.drop('booking_status', axis=1)\n",
    "y = data['booking_status']"
   ]
  },
  {
   "cell_type": "code",
   "execution_count": 16,
   "id": "edb554b3-9799-4509-8227-99d20301e268",
   "metadata": {},
   "outputs": [],
   "source": [
    "# split data to Training Set to Testing Set\n",
    "X_train, X_test, y_train, y_test = train_test_split(X, y, stratify=y, test_size=0.2, random_state=0)"
   ]
  },
  {
   "cell_type": "code",
   "execution_count": 17,
   "id": "0ccf3b9c",
   "metadata": {},
   "outputs": [
    {
     "data": {
      "text/plain": [
       "899      Not_Canceled\n",
       "14961        Canceled\n",
       "15124        Canceled\n",
       "2565     Not_Canceled\n",
       "11024        Canceled\n",
       "             ...     \n",
       "26262        Canceled\n",
       "28320    Not_Canceled\n",
       "8351     Not_Canceled\n",
       "4226         Canceled\n",
       "31632    Not_Canceled\n",
       "Name: booking_status, Length: 29020, dtype: object"
      ]
     },
     "execution_count": 17,
     "metadata": {},
     "output_type": "execute_result"
    }
   ],
   "source": [
    "y_train"
   ]
  },
  {
   "cell_type": "code",
   "execution_count": 18,
   "id": "6523e688-0f65-428e-8815-61267c0942a6",
   "metadata": {},
   "outputs": [
    {
     "data": {
      "text/plain": [
       "array([0, 1, 1, ..., 0, 1, 0])"
      ]
     },
     "execution_count": 18,
     "metadata": {},
     "output_type": "execute_result"
    }
   ],
   "source": [
    "# mengubah Not_Canceled ke 0 dan Canceled ke 1\n",
    "y_train = np.where(y_train == 'Canceled', 1, 0)\n",
    "y_train"
   ]
  },
  {
   "cell_type": "code",
   "execution_count": 19,
   "id": "89bed103",
   "metadata": {},
   "outputs": [
    {
     "data": {
      "text/plain": [
       "34697    Not_Canceled\n",
       "33492    Not_Canceled\n",
       "15748    Not_Canceled\n",
       "34776    Not_Canceled\n",
       "24584        Canceled\n",
       "             ...     \n",
       "21530    Not_Canceled\n",
       "25889        Canceled\n",
       "35220        Canceled\n",
       "28376        Canceled\n",
       "2405     Not_Canceled\n",
       "Name: booking_status, Length: 7255, dtype: object"
      ]
     },
     "execution_count": 19,
     "metadata": {},
     "output_type": "execute_result"
    }
   ],
   "source": [
    "y_test"
   ]
  },
  {
   "cell_type": "code",
   "execution_count": 20,
   "id": "9cb2f77a-281e-4ca8-b753-455534829012",
   "metadata": {},
   "outputs": [
    {
     "data": {
      "text/plain": [
       "array([0, 0, 0, ..., 1, 1, 0])"
      ]
     },
     "execution_count": 20,
     "metadata": {},
     "output_type": "execute_result"
    }
   ],
   "source": [
    "# mengubah Not_Canceled ke 0 dan Canceled ke 1\n",
    "y_test = np.where(y_test == 'Canceled', 1, 0)\n",
    "y_test"
   ]
  },
  {
   "cell_type": "markdown",
   "id": "16ef5b25-bcb5-4d80-9af6-335a125ec20d",
   "metadata": {},
   "source": [
    "## X_train"
   ]
  },
  {
   "cell_type": "markdown",
   "id": "82177a2e",
   "metadata": {},
   "source": [
    "### Handling Outliers"
   ]
  },
  {
   "cell_type": "code",
   "execution_count": 21,
   "id": "0261aed3-d989-4b62-be54-c3731d59cb89",
   "metadata": {},
   "outputs": [
    {
     "data": {
      "image/png": "[encoded data removed]",
      "text/plain": [
       "<Figure size 1000x300 with 1 Axes>"
      ]
     },
     "metadata": {},
     "output_type": "display_data"
    }
   ],
   "source": [
    "fig, ax = plt.subplots()\n",
    "fig.set_size_inches(10, 3)\n",
    "st.probplot(plot=ax, dist=\"norm\", x=X_train['avg_price_per_room']);"
   ]
  },
  {
   "cell_type": "markdown",
   "id": "16efa450-7d1a-42f2-8739-9a38c0a718eb",
   "metadata": {},
   "source": [
    "Karena data points dari harga kamar tidak berada pada titik merah lurus, feature harga kamar dapat dikatakan memiliki distribusi data yang tidak normal."
   ]
  },
  {
   "cell_type": "code",
   "execution_count": 22,
   "id": "84a5671f-4d44-4c50-b782-8ed3bf707b47",
   "metadata": {},
   "outputs": [
    {
     "name": "stdout",
     "output_type": "stream",
     "text": [
      "Maximum outlier of avg_price_per_room is 2.09 times larger than upper boundary\n",
      "Minimun outlier of avg_price_per_room is 0.00 times smaller than lower boundary\n",
      "\n"
     ]
    }
   ],
   "source": [
    "data_series = X_train['avg_price_per_room']\n",
    "q1, q3 = np.percentile(data_series, 25), np.percentile(data_series, 75)\n",
    "iqr = q3 - q1\n",
    "cut_off = iqr * 1.5\n",
    "lower, upper = q1 - cut_off, q3 + cut_off\n",
    "jumlah = ((data_series < lower) | (data_series > upper)).sum()\n",
    "outliers_below_lower = data_series[data_series < lower].index\n",
    "outliers_over_upper = data_series[data_series > upper].index\n",
    "    \n",
    "print(f'Maximum outlier of {data_series.name} is {(data_series[outliers_over_upper].max() / upper):.2f} times larger than upper boundary')\n",
    "print(f'Minimun outlier of {data_series.name} is {(data_series[outliers_below_lower].min() / lower):.2f} times smaller than lower boundary')\n",
    "print('')"
   ]
  },
  {
   "cell_type": "code",
   "execution_count": 23,
   "id": "05eba126-3fc6-4f75-8976-28b602b61465",
   "metadata": {},
   "outputs": [
    {
     "data": {
      "text/plain": [
       "179.55"
      ]
     },
     "execution_count": 23,
     "metadata": {},
     "output_type": "execute_result"
    }
   ],
   "source": [
    "# upper limit dari harga kamar\n",
    "upper"
   ]
  },
  {
   "cell_type": "code",
   "execution_count": 24,
   "id": "4dcb1750-7b27-4591-813b-fba6aa1c652e",
   "metadata": {},
   "outputs": [],
   "source": [
    "# mengubah outliers di luar upper limit menjadi angka yang ada di upper\n",
    "X_train.loc[outliers_over_upper,'avg_price_per_room'] = upper"
   ]
  },
  {
   "cell_type": "markdown",
   "id": "bd2cab06",
   "metadata": {},
   "source": [
    "Outliers di luar upper boundary akan kita ganti dengan harga yang ada pada upper boundary."
   ]
  },
  {
   "cell_type": "markdown",
   "id": "1bc61c4e",
   "metadata": {},
   "source": [
    "### Handling Duplicated"
   ]
  },
  {
   "cell_type": "code",
   "execution_count": 25,
   "id": "1b6dc0e1",
   "metadata": {},
   "outputs": [
    {
     "data": {
      "text/html": [
       "<div>\n",
       "<style scoped>\n",
       "    .dataframe tbody tr th:only-of-type {\n",
       "        vertical-align: middle;\n",
       "    }\n",
       "\n",
       "    .dataframe tbody tr th {\n",
       "        vertical-align: top;\n",
       "    }\n",
       "\n",
       "    .dataframe thead th {\n",
       "        text-align: right;\n",
       "    }\n",
       "</style>\n",
       "<table border=\"1\" class=\"dataframe\">\n",
       "  <thead>\n",
       "    <tr style=\"text-align: right;\">\n",
       "      <th></th>\n",
       "      <th>Booking_ID</th>\n",
       "      <th>no_of_adults</th>\n",
       "      <th>no_of_children</th>\n",
       "      <th>no_of_weekend_nights</th>\n",
       "      <th>no_of_week_nights</th>\n",
       "      <th>type_of_meal_plan</th>\n",
       "      <th>required_car_parking_space</th>\n",
       "      <th>room_type_reserved</th>\n",
       "      <th>lead_time</th>\n",
       "      <th>arrival_year</th>\n",
       "      <th>arrival_month</th>\n",
       "      <th>arrival_date</th>\n",
       "      <th>market_segment_type</th>\n",
       "      <th>repeated_guest</th>\n",
       "      <th>no_of_previous_cancellations</th>\n",
       "      <th>no_of_previous_bookings_not_canceled</th>\n",
       "      <th>avg_price_per_room</th>\n",
       "      <th>no_of_special_requests</th>\n",
       "    </tr>\n",
       "  </thead>\n",
       "  <tbody>\n",
       "  </tbody>\n",
       "</table>\n",
       "</div>"
      ],
      "text/plain": [
       "Empty DataFrame\n",
       "Columns: [Booking_ID, no_of_adults, no_of_children, no_of_weekend_nights, no_of_week_nights, type_of_meal_plan, required_car_parking_space, room_type_reserved, lead_time, arrival_year, arrival_month, arrival_date, market_segment_type, repeated_guest, no_of_previous_cancellations, no_of_previous_bookings_not_canceled, avg_price_per_room, no_of_special_requests]\n",
       "Index: []"
      ]
     },
     "execution_count": 25,
     "metadata": {},
     "output_type": "execute_result"
    }
   ],
   "source": [
    "# melihat apakah ada rows yang duplikasi\n",
    "X_train[X_train.duplicated()]"
   ]
  },
  {
   "cell_type": "markdown",
   "id": "007a873d",
   "metadata": {},
   "source": [
    "X_train tidak memiliki duplikasi baris"
   ]
  },
  {
   "cell_type": "markdown",
   "id": "2baa0481",
   "metadata": {},
   "source": [
    "### Handling Missing Values"
   ]
  },
  {
   "cell_type": "code",
   "execution_count": 26,
   "id": "008728e5",
   "metadata": {},
   "outputs": [
    {
     "data": {
      "text/plain": [
       "Booking_ID                              0\n",
       "no_of_adults                            0\n",
       "no_of_children                          0\n",
       "no_of_weekend_nights                    0\n",
       "no_of_week_nights                       0\n",
       "type_of_meal_plan                       0\n",
       "required_car_parking_space              0\n",
       "room_type_reserved                      0\n",
       "lead_time                               0\n",
       "arrival_year                            0\n",
       "arrival_month                           0\n",
       "arrival_date                            0\n",
       "market_segment_type                     0\n",
       "repeated_guest                          0\n",
       "no_of_previous_cancellations            0\n",
       "no_of_previous_bookings_not_canceled    0\n",
       "avg_price_per_room                      0\n",
       "no_of_special_requests                  0\n",
       "dtype: int64"
      ]
     },
     "execution_count": 26,
     "metadata": {},
     "output_type": "execute_result"
    }
   ],
   "source": [
    "# melihat apakah ada missing value atau tidak di X_train\n",
    "X_train.isnull().sum()"
   ]
  },
  {
   "cell_type": "code",
   "execution_count": 27,
   "id": "e9dab023",
   "metadata": {},
   "outputs": [
    {
     "data": {
      "text/plain": [
       "0"
      ]
     },
     "execution_count": 27,
     "metadata": {},
     "output_type": "execute_result"
    }
   ],
   "source": [
    "# melihat apakah ada missing value atau tidak di y_train\n",
    "np.count_nonzero(np.isnan(y_train))"
   ]
  },
  {
   "cell_type": "markdown",
   "id": "13d49aca",
   "metadata": {},
   "source": [
    "X_train maupun y_train tidak ada missing values"
   ]
  },
  {
   "cell_type": "markdown",
   "id": "1f41af5d-cfa2-4e86-9df0-73a6db4de240",
   "metadata": {},
   "source": [
    "## X_test"
   ]
  },
  {
   "cell_type": "markdown",
   "id": "35a18f71-068b-4504-b49e-2a0b16ae19b2",
   "metadata": {},
   "source": [
    "### Handling Duplicated"
   ]
  },
  {
   "cell_type": "code",
   "execution_count": 28,
   "id": "cc925069-994f-4b67-a82d-602ea748393b",
   "metadata": {},
   "outputs": [
    {
     "data": {
      "text/html": [
       "<div>\n",
       "<style scoped>\n",
       "    .dataframe tbody tr th:only-of-type {\n",
       "        vertical-align: middle;\n",
       "    }\n",
       "\n",
       "    .dataframe tbody tr th {\n",
       "        vertical-align: top;\n",
       "    }\n",
       "\n",
       "    .dataframe thead th {\n",
       "        text-align: right;\n",
       "    }\n",
       "</style>\n",
       "<table border=\"1\" class=\"dataframe\">\n",
       "  <thead>\n",
       "    <tr style=\"text-align: right;\">\n",
       "      <th></th>\n",
       "      <th>Booking_ID</th>\n",
       "      <th>no_of_adults</th>\n",
       "      <th>no_of_children</th>\n",
       "      <th>no_of_weekend_nights</th>\n",
       "      <th>no_of_week_nights</th>\n",
       "      <th>type_of_meal_plan</th>\n",
       "      <th>required_car_parking_space</th>\n",
       "      <th>room_type_reserved</th>\n",
       "      <th>lead_time</th>\n",
       "      <th>arrival_year</th>\n",
       "      <th>arrival_month</th>\n",
       "      <th>arrival_date</th>\n",
       "      <th>market_segment_type</th>\n",
       "      <th>repeated_guest</th>\n",
       "      <th>no_of_previous_cancellations</th>\n",
       "      <th>no_of_previous_bookings_not_canceled</th>\n",
       "      <th>avg_price_per_room</th>\n",
       "      <th>no_of_special_requests</th>\n",
       "    </tr>\n",
       "  </thead>\n",
       "  <tbody>\n",
       "  </tbody>\n",
       "</table>\n",
       "</div>"
      ],
      "text/plain": [
       "Empty DataFrame\n",
       "Columns: [Booking_ID, no_of_adults, no_of_children, no_of_weekend_nights, no_of_week_nights, type_of_meal_plan, required_car_parking_space, room_type_reserved, lead_time, arrival_year, arrival_month, arrival_date, market_segment_type, repeated_guest, no_of_previous_cancellations, no_of_previous_bookings_not_canceled, avg_price_per_room, no_of_special_requests]\n",
       "Index: []"
      ]
     },
     "execution_count": 28,
     "metadata": {},
     "output_type": "execute_result"
    }
   ],
   "source": [
    "# melihat apakah ada rows yang duplikasi\n",
    "X_test[X_test.duplicated()]"
   ]
  },
  {
   "cell_type": "markdown",
   "id": "062570a2-5113-4cf3-a14f-a8b11bbb38a1",
   "metadata": {},
   "source": [
    "X_test tidak memiliki duplikasi baris"
   ]
  },
  {
   "cell_type": "markdown",
   "id": "6465f22a-e909-403a-9bbc-b58bbc042b36",
   "metadata": {},
   "source": [
    "### Handling Missing Values"
   ]
  },
  {
   "cell_type": "code",
   "execution_count": 29,
   "id": "16f8d4c9-3393-49d6-be94-f86c882affa2",
   "metadata": {},
   "outputs": [
    {
     "data": {
      "text/plain": [
       "Booking_ID                              0\n",
       "no_of_adults                            0\n",
       "no_of_children                          0\n",
       "no_of_weekend_nights                    0\n",
       "no_of_week_nights                       0\n",
       "type_of_meal_plan                       0\n",
       "required_car_parking_space              0\n",
       "room_type_reserved                      0\n",
       "lead_time                               0\n",
       "arrival_year                            0\n",
       "arrival_month                           0\n",
       "arrival_date                            0\n",
       "market_segment_type                     0\n",
       "repeated_guest                          0\n",
       "no_of_previous_cancellations            0\n",
       "no_of_previous_bookings_not_canceled    0\n",
       "avg_price_per_room                      0\n",
       "no_of_special_requests                  0\n",
       "dtype: int64"
      ]
     },
     "execution_count": 29,
     "metadata": {},
     "output_type": "execute_result"
    }
   ],
   "source": [
    "# melihat apakah ada missing value atau tidak di X_test\n",
    "X_test.isnull().sum()"
   ]
  },
  {
   "cell_type": "code",
   "execution_count": 30,
   "id": "95e7749b-6002-4862-b7b7-e7dabdfae1be",
   "metadata": {},
   "outputs": [
    {
     "data": {
      "text/plain": [
       "0"
      ]
     },
     "execution_count": 30,
     "metadata": {},
     "output_type": "execute_result"
    }
   ],
   "source": [
    "# melihat apakah ada missing value atau tidak di y_test\n",
    "np.count_nonzero(np.isnan(y_test))"
   ]
  },
  {
   "cell_type": "markdown",
   "id": "4afffba2-e982-4ca8-b2d0-0b6a423a2f0d",
   "metadata": {},
   "source": [
    "X_test maupun y_test tidak memiliki missing values"
   ]
  },
  {
   "cell_type": "markdown",
   "id": "139e974a-b45e-44f2-8886-d16bbd8ee53b",
   "metadata": {},
   "source": [
    "# Pipeline (Preparation) (Scaling, Encoding, Feature Selection)"
   ]
  },
  {
   "cell_type": "markdown",
   "id": "7de13aa0-a18d-456c-9968-250e331ad40b",
   "metadata": {},
   "source": [
    "## X_train"
   ]
  },
  {
   "cell_type": "markdown",
   "id": "53705749-e658-4d56-8f1c-454ab7a56034",
   "metadata": {},
   "source": [
    "### Creating Pipe for scaling, encoding, and feature selection"
   ]
  },
  {
   "cell_type": "code",
   "execution_count": 31,
   "id": "e85259d1-6547-422b-9167-d6081545442b",
   "metadata": {},
   "outputs": [],
   "source": [
    "# numerical columns that will be passed on to numerical pipe\n",
    "num_columns = ['no_of_adults',\n",
    " 'no_of_children',\n",
    " 'no_of_weekend_nights',\n",
    " 'no_of_week_nights',\n",
    " 'lead_time',\n",
    " 'arrival_year',\n",
    " 'arrival_month',\n",
    " 'arrival_date',\n",
    " 'no_of_previous_cancellations',\n",
    " 'no_of_previous_bookings_not_canceled',\n",
    " 'avg_price_per_room',\n",
    " 'no_of_special_requests']"
   ]
  },
  {
   "cell_type": "code",
   "execution_count": 32,
   "id": "6928df1f-2e28-4097-a381-ed5028221554",
   "metadata": {},
   "outputs": [],
   "source": [
    "# categorical columns that will be passed on to categorical pipe\n",
    "cat_columns = ['type_of_meal_plan', 'required_car_parking_space', 'room_type_reserved', 'market_segment_type', 'repeated_guest']"
   ]
  },
  {
   "cell_type": "code",
   "execution_count": 33,
   "id": "de4d9154",
   "metadata": {},
   "outputs": [],
   "source": [
    "# make numerical columns consist of scaler, and anova F-value to select the best features\n",
    "pipe_num = Pipeline([\n",
    "    (\"scaler\",StandardScaler()),\n",
    "    (\"f_classif\",SelectKBest(f_classif, k = 1))\n",
    "])\n",
    "\n",
    "# make categorical columns consist of encoder, and chi2 to select the best features\n",
    "pipe_cat = Pipeline([\n",
    "    (\"encode\",OrdinalEncoder()),\n",
    "    (\"chi2\",SelectKBest(chi2, k = 2))\n",
    "])"
   ]
  },
  {
   "cell_type": "markdown",
   "id": "3330074e-4942-4a29-83ed-e9dab8d6cd88",
   "metadata": {},
   "source": [
    "Ketika categorical = 2 features, numerical features lebih dari 1 dapat mengakibatkan recall Naive Bayes turun, namun beberapa model lain naik.  \n",
    "Ketika numerical = 1 feature dan categorical features lebih dari 2 dapat mengakibatkan recall Naive Bayes turun, namun beberapa model lain naik.  \n",
    "Ketika numerical = 1 feature dan categorical feature juga 1 dapat mengakibatkan recall Naive Bayes turun dan beberapa model lain juga turun."
   ]
  },
  {
   "cell_type": "markdown",
   "id": "1fb864bf-b968-48da-8197-71750ff4da79",
   "metadata": {},
   "source": [
    "### Feature Selection"
   ]
  },
  {
   "cell_type": "code",
   "execution_count": 34,
   "id": "ff6372bd",
   "metadata": {},
   "outputs": [],
   "source": [
    "# menggabungkan pipe untuk categorical dan numerical beserta feature-featurenya\n",
    "pipe_preprocessing_best = make_column_transformer(\n",
    "    (pipe_num, num_columns),\n",
    "    (pipe_cat, cat_columns)\n",
    ")"
   ]
  },
  {
   "cell_type": "code",
   "execution_count": 35,
   "id": "e0d228a7-0ecf-4523-9da4-a3f4ee3618bf",
   "metadata": {},
   "outputs": [
    {
     "data": {
      "text/html": [
       "<style>#sk-container-id-1 {color: black;background-color: white;}#sk-container-id-1 pre{padding: 0;}#sk-container-id-1 div.sk-toggleable {background-color: white;}#sk-container-id-1 label.sk-toggleable__label {cursor: pointer;display: block;width: 100%;margin-bottom: 0;padding: 0.3em;box-sizing: border-box;text-align: center;}#sk-container-id-1 label.sk-toggleable__label-arrow:before {content: \"▸\";float: left;margin-right: 0.25em;color: #696969;}#sk-container-id-1 label.sk-toggleable__label-arrow:hover:before {color: black;}#sk-container-id-1 div.sk-estimator:hover label.sk-toggleable__label-arrow:before {color: black;}#sk-container-id-1 div.sk-toggleable__content {max-height: 0;max-width: 0;overflow: hidden;text-align: left;background-color: #f0f8ff;}#sk-container-id-1 div.sk-toggleable__content pre {margin: 0.2em;color: black;border-radius: 0.25em;background-color: #f0f8ff;}#sk-container-id-1 input.sk-toggleable__control:checked~div.sk-toggleable__content {max-height: 200px;max-width: 100%;overflow: auto;}#sk-container-id-1 input.sk-toggleable__control:checked~label.sk-toggleable__label-arrow:before {content: \"▾\";}#sk-container-id-1 div.sk-estimator input.sk-toggleable__control:checked~label.sk-toggleable__label {background-color: #d4ebff;}#sk-container-id-1 div.sk-label input.sk-toggleable__control:checked~label.sk-toggleable__label {background-color: #d4ebff;}#sk-container-id-1 input.sk-hidden--visually {border: 0;clip: rect(1px 1px 1px 1px);clip: rect(1px, 1px, 1px, 1px);height: 1px;margin: -1px;overflow: hidden;padding: 0;position: absolute;width: 1px;}#sk-container-id-1 div.sk-estimator {font-family: monospace;background-color: #f0f8ff;border: 1px dotted black;border-radius: 0.25em;box-sizing: border-box;margin-bottom: 0.5em;}#sk-container-id-1 div.sk-estimator:hover {background-color: #d4ebff;}#sk-container-id-1 div.sk-parallel-item::after {content: \"\";width: 100%;border-bottom: 1px solid gray;flex-grow: 1;}#sk-container-id-1 div.sk-label:hover label.sk-toggleable__label {background-color: #d4ebff;}#sk-container-id-1 div.sk-serial::before {content: \"\";position: absolute;border-left: 1px solid gray;box-sizing: border-box;top: 0;bottom: 0;left: 50%;z-index: 0;}#sk-container-id-1 div.sk-serial {display: flex;flex-direction: column;align-items: center;background-color: white;padding-right: 0.2em;padding-left: 0.2em;position: relative;}#sk-container-id-1 div.sk-item {position: relative;z-index: 1;}#sk-container-id-1 div.sk-parallel {display: flex;align-items: stretch;justify-content: center;background-color: white;position: relative;}#sk-container-id-1 div.sk-item::before, #sk-container-id-1 div.sk-parallel-item::before {content: \"\";position: absolute;border-left: 1px solid gray;box-sizing: border-box;top: 0;bottom: 0;left: 50%;z-index: -1;}#sk-container-id-1 div.sk-parallel-item {display: flex;flex-direction: column;z-index: 1;position: relative;background-color: white;}#sk-container-id-1 div.sk-parallel-item:first-child::after {align-self: flex-end;width: 50%;}#sk-container-id-1 div.sk-parallel-item:last-child::after {align-self: flex-start;width: 50%;}#sk-container-id-1 div.sk-parallel-item:only-child::after {width: 0;}#sk-container-id-1 div.sk-dashed-wrapped {border: 1px dashed gray;margin: 0 0.4em 0.5em 0.4em;box-sizing: border-box;padding-bottom: 0.4em;background-color: white;}#sk-container-id-1 div.sk-label label {font-family: monospace;font-weight: bold;display: inline-block;line-height: 1.2em;}#sk-container-id-1 div.sk-label-container {text-align: center;}#sk-container-id-1 div.sk-container {/* jupyter's `normalize.less` sets `[hidden] { display: none; }` but bootstrap.min.css set `[hidden] { display: none !important; }` so we also need the `!important` here to be able to override the default hidden behavior on the sphinx rendered scikit-learn.org. See: https://github.com/scikit-learn/scikit-learn/issues/21755 */display: inline-block !important;position: relative;}#sk-container-id-1 div.sk-text-repr-fallback {display: none;}</style><div id=\"sk-container-id-1\" class=\"sk-top-container\"><div class=\"sk-text-repr-fallback\"><pre>ColumnTransformer(transformers=[(&#x27;pipeline-1&#x27;,\n",
       "                                 Pipeline(steps=[(&#x27;scaler&#x27;, StandardScaler()),\n",
       "                                                 (&#x27;f_classif&#x27;,\n",
       "                                                  SelectKBest(k=1))]),\n",
       "                                 [&#x27;no_of_adults&#x27;, &#x27;no_of_children&#x27;,\n",
       "                                  &#x27;no_of_weekend_nights&#x27;, &#x27;no_of_week_nights&#x27;,\n",
       "                                  &#x27;lead_time&#x27;, &#x27;arrival_year&#x27;, &#x27;arrival_month&#x27;,\n",
       "                                  &#x27;arrival_date&#x27;,\n",
       "                                  &#x27;no_of_previous_cancellations&#x27;,\n",
       "                                  &#x27;no_of_previous_bookings_not_canceled&#x27;,\n",
       "                                  &#x27;avg_price_per_room&#x27;,\n",
       "                                  &#x27;no_of_special_requests&#x27;]),\n",
       "                                (&#x27;pipeline-2&#x27;,\n",
       "                                 Pipeline(steps=[(&#x27;encode&#x27;, OrdinalEncoder()),\n",
       "                                                 (&#x27;chi2&#x27;,\n",
       "                                                  SelectKBest(k=2,\n",
       "                                                              score_func=&lt;function chi2 at 0x000001CCF85F6C00&gt;))]),\n",
       "                                 [&#x27;type_of_meal_plan&#x27;,\n",
       "                                  &#x27;required_car_parking_space&#x27;,\n",
       "                                  &#x27;room_type_reserved&#x27;, &#x27;market_segment_type&#x27;,\n",
       "                                  &#x27;repeated_guest&#x27;])])</pre><b>In a Jupyter environment, please rerun this cell to show the HTML representation or trust the notebook. <br />On GitHub, the HTML representation is unable to render, please try loading this page with nbviewer.org.</b></div><div class=\"sk-container\" hidden><div class=\"sk-item sk-dashed-wrapped\"><div class=\"sk-label-container\"><div class=\"sk-label sk-toggleable\"><input class=\"sk-toggleable__control sk-hidden--visually\" id=\"sk-estimator-id-1\" type=\"checkbox\" ><label for=\"sk-estimator-id-1\" class=\"sk-toggleable__label sk-toggleable__label-arrow\">ColumnTransformer</label><div class=\"sk-toggleable__content\"><pre>ColumnTransformer(transformers=[(&#x27;pipeline-1&#x27;,\n",
       "                                 Pipeline(steps=[(&#x27;scaler&#x27;, StandardScaler()),\n",
       "                                                 (&#x27;f_classif&#x27;,\n",
       "                                                  SelectKBest(k=1))]),\n",
       "                                 [&#x27;no_of_adults&#x27;, &#x27;no_of_children&#x27;,\n",
       "                                  &#x27;no_of_weekend_nights&#x27;, &#x27;no_of_week_nights&#x27;,\n",
       "                                  &#x27;lead_time&#x27;, &#x27;arrival_year&#x27;, &#x27;arrival_month&#x27;,\n",
       "                                  &#x27;arrival_date&#x27;,\n",
       "                                  &#x27;no_of_previous_cancellations&#x27;,\n",
       "                                  &#x27;no_of_previous_bookings_not_canceled&#x27;,\n",
       "                                  &#x27;avg_price_per_room&#x27;,\n",
       "                                  &#x27;no_of_special_requests&#x27;]),\n",
       "                                (&#x27;pipeline-2&#x27;,\n",
       "                                 Pipeline(steps=[(&#x27;encode&#x27;, OrdinalEncoder()),\n",
       "                                                 (&#x27;chi2&#x27;,\n",
       "                                                  SelectKBest(k=2,\n",
       "                                                              score_func=&lt;function chi2 at 0x000001CCF85F6C00&gt;))]),\n",
       "                                 [&#x27;type_of_meal_plan&#x27;,\n",
       "                                  &#x27;required_car_parking_space&#x27;,\n",
       "                                  &#x27;room_type_reserved&#x27;, &#x27;market_segment_type&#x27;,\n",
       "                                  &#x27;repeated_guest&#x27;])])</pre></div></div></div><div class=\"sk-parallel\"><div class=\"sk-parallel-item\"><div class=\"sk-item\"><div class=\"sk-label-container\"><div class=\"sk-label sk-toggleable\"><input class=\"sk-toggleable__control sk-hidden--visually\" id=\"sk-estimator-id-2\" type=\"checkbox\" ><label for=\"sk-estimator-id-2\" class=\"sk-toggleable__label sk-toggleable__label-arrow\">pipeline-1</label><div class=\"sk-toggleable__content\"><pre>[&#x27;no_of_adults&#x27;, &#x27;no_of_children&#x27;, &#x27;no_of_weekend_nights&#x27;, &#x27;no_of_week_nights&#x27;, &#x27;lead_time&#x27;, &#x27;arrival_year&#x27;, &#x27;arrival_month&#x27;, &#x27;arrival_date&#x27;, &#x27;no_of_previous_cancellations&#x27;, &#x27;no_of_previous_bookings_not_canceled&#x27;, &#x27;avg_price_per_room&#x27;, &#x27;no_of_special_requests&#x27;]</pre></div></div></div><div class=\"sk-serial\"><div class=\"sk-item\"><div class=\"sk-serial\"><div class=\"sk-item\"><div class=\"sk-estimator sk-toggleable\"><input class=\"sk-toggleable__control sk-hidden--visually\" id=\"sk-estimator-id-3\" type=\"checkbox\" ><label for=\"sk-estimator-id-3\" class=\"sk-toggleable__label sk-toggleable__label-arrow\">StandardScaler</label><div class=\"sk-toggleable__content\"><pre>StandardScaler()</pre></div></div></div><div class=\"sk-item\"><div class=\"sk-estimator sk-toggleable\"><input class=\"sk-toggleable__control sk-hidden--visually\" id=\"sk-estimator-id-4\" type=\"checkbox\" ><label for=\"sk-estimator-id-4\" class=\"sk-toggleable__label sk-toggleable__label-arrow\">SelectKBest</label><div class=\"sk-toggleable__content\"><pre>SelectKBest(k=1)</pre></div></div></div></div></div></div></div></div><div class=\"sk-parallel-item\"><div class=\"sk-item\"><div class=\"sk-label-container\"><div class=\"sk-label sk-toggleable\"><input class=\"sk-toggleable__control sk-hidden--visually\" id=\"sk-estimator-id-5\" type=\"checkbox\" ><label for=\"sk-estimator-id-5\" class=\"sk-toggleable__label sk-toggleable__label-arrow\">pipeline-2</label><div class=\"sk-toggleable__content\"><pre>[&#x27;type_of_meal_plan&#x27;, &#x27;required_car_parking_space&#x27;, &#x27;room_type_reserved&#x27;, &#x27;market_segment_type&#x27;, &#x27;repeated_guest&#x27;]</pre></div></div></div><div class=\"sk-serial\"><div class=\"sk-item\"><div class=\"sk-serial\"><div class=\"sk-item\"><div class=\"sk-estimator sk-toggleable\"><input class=\"sk-toggleable__control sk-hidden--visually\" id=\"sk-estimator-id-6\" type=\"checkbox\" ><label for=\"sk-estimator-id-6\" class=\"sk-toggleable__label sk-toggleable__label-arrow\">OrdinalEncoder</label><div class=\"sk-toggleable__content\"><pre>OrdinalEncoder()</pre></div></div></div><div class=\"sk-item\"><div class=\"sk-estimator sk-toggleable\"><input class=\"sk-toggleable__control sk-hidden--visually\" id=\"sk-estimator-id-7\" type=\"checkbox\" ><label for=\"sk-estimator-id-7\" class=\"sk-toggleable__label sk-toggleable__label-arrow\">SelectKBest</label><div class=\"sk-toggleable__content\"><pre>SelectKBest(k=2, score_func=&lt;function chi2 at 0x000001CCF85F6C00&gt;)</pre></div></div></div></div></div></div></div></div></div></div></div></div>"
      ],
      "text/plain": [
       "ColumnTransformer(transformers=[('pipeline-1',\n",
       "                                 Pipeline(steps=[('scaler', StandardScaler()),\n",
       "                                                 ('f_classif',\n",
       "                                                  SelectKBest(k=1))]),\n",
       "                                 ['no_of_adults', 'no_of_children',\n",
       "                                  'no_of_weekend_nights', 'no_of_week_nights',\n",
       "                                  'lead_time', 'arrival_year', 'arrival_month',\n",
       "                                  'arrival_date',\n",
       "                                  'no_of_previous_cancellations',\n",
       "                                  'no_of_previous_bookings_not_canceled',\n",
       "                                  'avg_price_per_room',\n",
       "                                  'no_of_special_requests']),\n",
       "                                ('pipeline-2',\n",
       "                                 Pipeline(steps=[('encode', OrdinalEncoder()),\n",
       "                                                 ('chi2',\n",
       "                                                  SelectKBest(k=2,\n",
       "                                                              score_func=<function chi2 at 0x000001CCF85F6C00>))]),\n",
       "                                 ['type_of_meal_plan',\n",
       "                                  'required_car_parking_space',\n",
       "                                  'room_type_reserved', 'market_segment_type',\n",
       "                                  'repeated_guest'])])"
      ]
     },
     "execution_count": 35,
     "metadata": {},
     "output_type": "execute_result"
    }
   ],
   "source": [
    "pipe_preprocessing_best.fit(X_train, y_train)"
   ]
  },
  {
   "cell_type": "code",
   "execution_count": 36,
   "id": "85cf0cee-91a3-4710-9aa5-c064e57c3e51",
   "metadata": {},
   "outputs": [],
   "source": [
    "# melakukan transform untuk data training untuk training model\n",
    "X_train_transformed = pipe_preprocessing_best.transform(X_train)"
   ]
  },
  {
   "cell_type": "markdown",
   "id": "7ae0f5e8-79c7-463c-8f80-9c65a58c7652",
   "metadata": {},
   "source": [
    "#### Numerical Features (with f_classif)"
   ]
  },
  {
   "cell_type": "code",
   "execution_count": 37,
   "id": "646d98c0-eec5-4a9f-b441-686dac852ffc",
   "metadata": {},
   "outputs": [],
   "source": [
    "# mendapatkan score masing-masing feature numerical\n",
    "f_classif_scores = pipe_preprocessing_best.named_transformers_['pipeline-1']['f_classif'].scores_"
   ]
  },
  {
   "cell_type": "code",
   "execution_count": 38,
   "id": "e3d6ef83-9e73-42df-acee-f8ad17cec530",
   "metadata": {},
   "outputs": [
    {
     "data": {
      "text/html": [
       "<div>\n",
       "<style scoped>\n",
       "    .dataframe tbody tr th:only-of-type {\n",
       "        vertical-align: middle;\n",
       "    }\n",
       "\n",
       "    .dataframe tbody tr th {\n",
       "        vertical-align: top;\n",
       "    }\n",
       "\n",
       "    .dataframe thead th {\n",
       "        text-align: right;\n",
       "    }\n",
       "</style>\n",
       "<table border=\"1\" class=\"dataframe\">\n",
       "  <thead>\n",
       "    <tr style=\"text-align: right;\">\n",
       "      <th></th>\n",
       "      <th>features</th>\n",
       "      <th>scores</th>\n",
       "    </tr>\n",
       "  </thead>\n",
       "  <tbody>\n",
       "    <tr>\n",
       "      <th>4</th>\n",
       "      <td>lead_time</td>\n",
       "      <td>6777.207918</td>\n",
       "    </tr>\n",
       "    <tr>\n",
       "      <th>11</th>\n",
       "      <td>no_of_special_requests</td>\n",
       "      <td>1971.619297</td>\n",
       "    </tr>\n",
       "    <tr>\n",
       "      <th>5</th>\n",
       "      <td>arrival_year</td>\n",
       "      <td>985.246203</td>\n",
       "    </tr>\n",
       "    <tr>\n",
       "      <th>10</th>\n",
       "      <td>avg_price_per_room</td>\n",
       "      <td>666.147723</td>\n",
       "    </tr>\n",
       "    <tr>\n",
       "      <th>0</th>\n",
       "      <td>no_of_adults</td>\n",
       "      <td>225.367025</td>\n",
       "    </tr>\n",
       "    <tr>\n",
       "      <th>3</th>\n",
       "      <td>no_of_week_nights</td>\n",
       "      <td>219.159046</td>\n",
       "    </tr>\n",
       "    <tr>\n",
       "      <th>2</th>\n",
       "      <td>no_of_weekend_nights</td>\n",
       "      <td>116.015802</td>\n",
       "    </tr>\n",
       "    <tr>\n",
       "      <th>9</th>\n",
       "      <td>no_of_previous_bookings_not_canceled</td>\n",
       "      <td>103.840482</td>\n",
       "    </tr>\n",
       "    <tr>\n",
       "      <th>8</th>\n",
       "      <td>no_of_previous_cancellations</td>\n",
       "      <td>31.345598</td>\n",
       "    </tr>\n",
       "    <tr>\n",
       "      <th>1</th>\n",
       "      <td>no_of_children</td>\n",
       "      <td>28.189127</td>\n",
       "    </tr>\n",
       "    <tr>\n",
       "      <th>7</th>\n",
       "      <td>arrival_date</td>\n",
       "      <td>6.182483</td>\n",
       "    </tr>\n",
       "    <tr>\n",
       "      <th>6</th>\n",
       "      <td>arrival_month</td>\n",
       "      <td>3.794140</td>\n",
       "    </tr>\n",
       "  </tbody>\n",
       "</table>\n",
       "</div>"
      ],
      "text/plain": [
       "                                features       scores\n",
       "4                              lead_time  6777.207918\n",
       "11                no_of_special_requests  1971.619297\n",
       "5                           arrival_year   985.246203\n",
       "10                    avg_price_per_room   666.147723\n",
       "0                           no_of_adults   225.367025\n",
       "3                      no_of_week_nights   219.159046\n",
       "2                   no_of_weekend_nights   116.015802\n",
       "9   no_of_previous_bookings_not_canceled   103.840482\n",
       "8           no_of_previous_cancellations    31.345598\n",
       "1                         no_of_children    28.189127\n",
       "7                           arrival_date     6.182483\n",
       "6                          arrival_month     3.794140"
      ]
     },
     "execution_count": 38,
     "metadata": {},
     "output_type": "execute_result"
    }
   ],
   "source": [
    "# melihat score masing-masing feature numerical\n",
    "pd.DataFrame({'features': num_columns, \n",
    "              'scores':f_classif_scores}).sort_values('scores',ascending = False)"
   ]
  },
  {
   "cell_type": "markdown",
   "id": "df6dff11-4c68-4848-a58e-9cd482e79ccf",
   "metadata": {},
   "source": [
    "Informasi mengenai jarak antara pemesanan dan menginap adalah satu-satunya feature numerical yang akan kita masukkan ke model kita. Kenapa satu numerical feature saja? Karena satu numerical feature dan 2 categorical feature adalah kombinasi terbaik untuk performance model kita berdasarkan recall score."
   ]
  },
  {
   "cell_type": "markdown",
   "id": "362bb0c1-6757-4166-8ef1-4156f5ad74f1",
   "metadata": {},
   "source": [
    "#### Categorical Features (with chi2)"
   ]
  },
  {
   "cell_type": "code",
   "execution_count": 39,
   "id": "f79f8424-1e9c-465e-a894-b87d708e175a",
   "metadata": {},
   "outputs": [],
   "source": [
    "# mendapatkan score masing-masing feature categorical\n",
    "chi2_scores = pipe_preprocessing_best.named_transformers_['pipeline-2']['chi2'].scores_"
   ]
  },
  {
   "cell_type": "code",
   "execution_count": 40,
   "id": "c4217de3-c110-4820-ae29-1be8aef6cf38",
   "metadata": {},
   "outputs": [
    {
     "data": {
      "text/html": [
       "<div>\n",
       "<style scoped>\n",
       "    .dataframe tbody tr th:only-of-type {\n",
       "        vertical-align: middle;\n",
       "    }\n",
       "\n",
       "    .dataframe tbody tr th {\n",
       "        vertical-align: top;\n",
       "    }\n",
       "\n",
       "    .dataframe thead th {\n",
       "        text-align: right;\n",
       "    }\n",
       "</style>\n",
       "<table border=\"1\" class=\"dataframe\">\n",
       "  <thead>\n",
       "    <tr style=\"text-align: right;\">\n",
       "      <th></th>\n",
       "      <th>features</th>\n",
       "      <th>scores</th>\n",
       "    </tr>\n",
       "  </thead>\n",
       "  <tbody>\n",
       "    <tr>\n",
       "      <th>4</th>\n",
       "      <td>repeated_guest</td>\n",
       "      <td>328.792618</td>\n",
       "    </tr>\n",
       "    <tr>\n",
       "      <th>1</th>\n",
       "      <td>required_car_parking_space</td>\n",
       "      <td>219.369513</td>\n",
       "    </tr>\n",
       "    <tr>\n",
       "      <th>3</th>\n",
       "      <td>market_segment_type</td>\n",
       "      <td>71.510178</td>\n",
       "    </tr>\n",
       "    <tr>\n",
       "      <th>0</th>\n",
       "      <td>type_of_meal_plan</td>\n",
       "      <td>59.072121</td>\n",
       "    </tr>\n",
       "    <tr>\n",
       "      <th>2</th>\n",
       "      <td>room_type_reserved</td>\n",
       "      <td>44.457873</td>\n",
       "    </tr>\n",
       "  </tbody>\n",
       "</table>\n",
       "</div>"
      ],
      "text/plain": [
       "                     features      scores\n",
       "4              repeated_guest  328.792618\n",
       "1  required_car_parking_space  219.369513\n",
       "3         market_segment_type   71.510178\n",
       "0           type_of_meal_plan   59.072121\n",
       "2          room_type_reserved   44.457873"
      ]
     },
     "execution_count": 40,
     "metadata": {},
     "output_type": "execute_result"
    }
   ],
   "source": [
    "# melihat score masing-masing feature categorical\n",
    "pd.DataFrame({'features': cat_columns, \n",
    "              'scores':chi2_scores}).sort_values('scores',ascending = False)"
   ]
  },
  {
   "cell_type": "markdown",
   "id": "8889f72d-1444-4141-9dac-fff3c792774e",
   "metadata": {},
   "source": [
    "Informasi mengenai apakah pemesan adalah tamu yang pernah menginap di hotel itu dan apakah mereka membutuhkan lahan parkir atau tidak adalah dua features yang akan kita masukkan ke dalam model kita. Jika kita memilih kurang atau lebih dari 2 features, maka kita akan membuat performa model kita turun berdasarkan recall score."
   ]
  },
  {
   "cell_type": "markdown",
   "id": "ee638a31-d7a2-4fe8-b704-82f159166e4f",
   "metadata": {},
   "source": [
    "## X_test"
   ]
  },
  {
   "cell_type": "code",
   "execution_count": 41,
   "id": "f697a6af-a305-4fbc-b39c-2799667bc3a8",
   "metadata": {},
   "outputs": [],
   "source": [
    "# melakukan transformasi data testing untuk melakukan evaluasi model\n",
    "X_test_transformed = pipe_preprocessing_best.transform(X_test)"
   ]
  },
  {
   "cell_type": "markdown",
   "id": "337af999-bb0e-4240-9e87-344bf7d0178a",
   "metadata": {},
   "source": [
    "# Cross Validation to choose the best base model "
   ]
  },
  {
   "cell_type": "code",
   "execution_count": 42,
   "id": "d98ce0d4-8203-4764-83dc-d918d07a1188",
   "metadata": {},
   "outputs": [],
   "source": [
    "skfold=StratifiedKFold(n_splits=5)"
   ]
  },
  {
   "cell_type": "code",
   "execution_count": 43,
   "id": "8010ed59-8cdb-45f9-b186-08c12702f991",
   "metadata": {},
   "outputs": [],
   "source": [
    "# inisiasi model-model yang ingin dipakai\n",
    "log = LogisticRegression(random_state=0)\n",
    "knn = KNeighborsClassifier()\n",
    "svc = SVC(random_state=0)\n",
    "nb  = GaussianNB()\n",
    "dt  = DecisionTreeClassifier(random_state=0)\n",
    "rf  = RandomForestClassifier(random_state=0)\n",
    "ab  = AdaBoostClassifier(random_state=0)"
   ]
  },
  {
   "cell_type": "code",
   "execution_count": 44,
   "id": "90afe3ee",
   "metadata": {},
   "outputs": [],
   "source": [
    "# melakukan cross validation\n",
    "log_cross = cross_val_score(log, X=X_train_transformed, y=y_train, cv=skfold, scoring='recall')\n",
    "knn_cross = cross_val_score(knn, X=X_train_transformed, y=y_train, cv=skfold, scoring='recall')\n",
    "nb_cross  = cross_val_score(nb, X=X_train_transformed, y=y_train, cv=skfold, scoring='recall')\n",
    "svc_cross  = cross_val_score(svc, X=X_train_transformed, y=y_train, cv=skfold, scoring='recall')\n",
    "dt_cross  = cross_val_score(dt, X=X_train_transformed, y=y_train, cv=skfold, scoring='recall')\n",
    "rf_cross  = cross_val_score(rf, X=X_train_transformed, y=y_train, cv=skfold, scoring='recall')\n",
    "ab_cross  = cross_val_score(ab, X=X_train_transformed, y=y_train, cv=skfold, scoring='recall')"
   ]
  },
  {
   "cell_type": "code",
   "execution_count": 45,
   "id": "04bbecb3",
   "metadata": {},
   "outputs": [],
   "source": [
    "# membuat dataframe untuk membanding recall score yang didapat masing-masing model\n",
    "the_dict = {\n",
    "    'log':log_cross,\n",
    "    'knn':knn_cross,\n",
    "    'nb' :nb_cross,\n",
    "    'svm':svc_cross,\n",
    "    'dt':dt_cross,\n",
    "    'rf':rf_cross,\n",
    "    'ab':ab_cross\n",
    "           }\n",
    "recall_dataframe = pd.DataFrame.from_dict(the_dict, orient='index')\n",
    "\n",
    "\n",
    "the_mean_dict = {\n",
    "    'log':log_cross.mean(),\n",
    "    'knn':knn_cross.mean(),\n",
    "    'nb' :nb_cross.mean(),\n",
    "    'svm':svc_cross.mean(),\n",
    "    'dt':dt_cross.mean(),\n",
    "    'rf':rf_cross.mean(),\n",
    "    'ab':ab_cross.mean()\n",
    "           }\n",
    "the_mean_series = pd.Series(the_mean_dict)\n",
    "recall_dataframe['mean'] = the_mean_series\n",
    "\n",
    "\n",
    "the_std_dict = {\n",
    "    'log':log_cross.std(),\n",
    "    'knn':knn_cross.std(),\n",
    "    'nb' :nb_cross.std(),\n",
    "    'svm':svc_cross.std(),\n",
    "    'dt':dt_cross.std(),\n",
    "    'rf':rf_cross.std(),\n",
    "    'ab':ab_cross.std()\n",
    "           }\n",
    "the_std_series = pd.Series(the_std_dict)\n",
    "recall_dataframe['std'] = the_std_series"
   ]
  },
  {
   "cell_type": "code",
   "execution_count": 46,
   "id": "4f437c0c",
   "metadata": {},
   "outputs": [
    {
     "data": {
      "text/html": [
       "<div>\n",
       "<style scoped>\n",
       "    .dataframe tbody tr th:only-of-type {\n",
       "        vertical-align: middle;\n",
       "    }\n",
       "\n",
       "    .dataframe tbody tr th {\n",
       "        vertical-align: top;\n",
       "    }\n",
       "\n",
       "    .dataframe thead th {\n",
       "        text-align: right;\n",
       "    }\n",
       "</style>\n",
       "<table border=\"1\" class=\"dataframe\">\n",
       "  <thead>\n",
       "    <tr style=\"text-align: right;\">\n",
       "      <th></th>\n",
       "      <th>0</th>\n",
       "      <th>1</th>\n",
       "      <th>2</th>\n",
       "      <th>3</th>\n",
       "      <th>4</th>\n",
       "      <th>mean</th>\n",
       "      <th>std</th>\n",
       "    </tr>\n",
       "  </thead>\n",
       "  <tbody>\n",
       "    <tr>\n",
       "      <th>nb</th>\n",
       "      <td>0.991057</td>\n",
       "      <td>0.989479</td>\n",
       "      <td>0.989485</td>\n",
       "      <td>0.991588</td>\n",
       "      <td>0.989485</td>\n",
       "      <td>0.990219</td>\n",
       "      <td>0.000917</td>\n",
       "    </tr>\n",
       "    <tr>\n",
       "      <th>knn</th>\n",
       "      <td>0.422935</td>\n",
       "      <td>0.482378</td>\n",
       "      <td>0.500526</td>\n",
       "      <td>0.478444</td>\n",
       "      <td>0.481598</td>\n",
       "      <td>0.473176</td>\n",
       "      <td>0.026289</td>\n",
       "    </tr>\n",
       "    <tr>\n",
       "      <th>rf</th>\n",
       "      <td>0.441873</td>\n",
       "      <td>0.454498</td>\n",
       "      <td>0.455836</td>\n",
       "      <td>0.451630</td>\n",
       "      <td>0.455310</td>\n",
       "      <td>0.451829</td>\n",
       "      <td>0.005186</td>\n",
       "    </tr>\n",
       "    <tr>\n",
       "      <th>dt</th>\n",
       "      <td>0.440821</td>\n",
       "      <td>0.452393</td>\n",
       "      <td>0.447950</td>\n",
       "      <td>0.448475</td>\n",
       "      <td>0.443218</td>\n",
       "      <td>0.446571</td>\n",
       "      <td>0.004092</td>\n",
       "    </tr>\n",
       "    <tr>\n",
       "      <th>svm</th>\n",
       "      <td>0.427670</td>\n",
       "      <td>0.434508</td>\n",
       "      <td>0.417981</td>\n",
       "      <td>0.433754</td>\n",
       "      <td>0.426919</td>\n",
       "      <td>0.428166</td>\n",
       "      <td>0.005949</td>\n",
       "    </tr>\n",
       "    <tr>\n",
       "      <th>log</th>\n",
       "      <td>0.420831</td>\n",
       "      <td>0.432404</td>\n",
       "      <td>0.411672</td>\n",
       "      <td>0.430599</td>\n",
       "      <td>0.425868</td>\n",
       "      <td>0.424275</td>\n",
       "      <td>0.007474</td>\n",
       "    </tr>\n",
       "    <tr>\n",
       "      <th>ab</th>\n",
       "      <td>0.419779</td>\n",
       "      <td>0.424513</td>\n",
       "      <td>0.406940</td>\n",
       "      <td>0.427445</td>\n",
       "      <td>0.423239</td>\n",
       "      <td>0.420383</td>\n",
       "      <td>0.007158</td>\n",
       "    </tr>\n",
       "  </tbody>\n",
       "</table>\n",
       "</div>"
      ],
      "text/plain": [
       "            0         1         2         3         4      mean       std\n",
       "nb   0.991057  0.989479  0.989485  0.991588  0.989485  0.990219  0.000917\n",
       "knn  0.422935  0.482378  0.500526  0.478444  0.481598  0.473176  0.026289\n",
       "rf   0.441873  0.454498  0.455836  0.451630  0.455310  0.451829  0.005186\n",
       "dt   0.440821  0.452393  0.447950  0.448475  0.443218  0.446571  0.004092\n",
       "svm  0.427670  0.434508  0.417981  0.433754  0.426919  0.428166  0.005949\n",
       "log  0.420831  0.432404  0.411672  0.430599  0.425868  0.424275  0.007474\n",
       "ab   0.419779  0.424513  0.406940  0.427445  0.423239  0.420383  0.007158"
      ]
     },
     "execution_count": 46,
     "metadata": {},
     "output_type": "execute_result"
    }
   ],
   "source": [
    "# membuat dataframe untuk membanding recall score yang didapat masing-masing model\n",
    "recall_dataframe.sort_values('mean', ascending=False)"
   ]
  },
  {
   "cell_type": "markdown",
   "id": "7ebd1a8a-165f-4641-aba7-d9c8cd615be6",
   "metadata": {},
   "source": [
    "Dari tujuh model yang sudah kita pilih untuk dicoba dengan training set, hanya model Naive Bayes yang memiliki rata-rata recall score lebih dari 50%. Maka dari itu model yang akan kita pakai untuk membantu kita melakukan klasifikasi apakah pemesan akan membatalkan pesanannya atau tidak adalah Naive Bayes. "
   ]
  },
  {
   "cell_type": "markdown",
   "id": "32634cc3",
   "metadata": {},
   "source": [
    "# Model Improvement or tuning with GridSearch"
   ]
  },
  {
   "cell_type": "code",
   "execution_count": 47,
   "id": "7ae6d17c",
   "metadata": {},
   "outputs": [],
   "source": [
    "n_classes = np.unique(y_train)"
   ]
  },
  {
   "cell_type": "code",
   "execution_count": 48,
   "id": "612ecbc3",
   "metadata": {},
   "outputs": [],
   "source": [
    "params = {\n",
    "#     'gaussiannb__priors': [None, [0.1,]* len(n_classes),],\n",
    "    'var_smoothing': [0.000000001,0.00000001,0.0000001,0.0000001,0.0000001,0.000001,0.00001,0.0001,0.001,0.01,0.1]\n",
    "}"
   ]
  },
  {
   "cell_type": "code",
   "execution_count": 49,
   "id": "d7c97eec",
   "metadata": {},
   "outputs": [
    {
     "name": "stdout",
     "output_type": "stream",
     "text": [
      "Fitting 5 folds for each of 11 candidates, totalling 55 fits\n"
     ]
    },
    {
     "data": {
      "text/html": [
       "<style>#sk-container-id-2 {color: black;background-color: white;}#sk-container-id-2 pre{padding: 0;}#sk-container-id-2 div.sk-toggleable {background-color: white;}#sk-container-id-2 label.sk-toggleable__label {cursor: pointer;display: block;width: 100%;margin-bottom: 0;padding: 0.3em;box-sizing: border-box;text-align: center;}#sk-container-id-2 label.sk-toggleable__label-arrow:before {content: \"▸\";float: left;margin-right: 0.25em;color: #696969;}#sk-container-id-2 label.sk-toggleable__label-arrow:hover:before {color: black;}#sk-container-id-2 div.sk-estimator:hover label.sk-toggleable__label-arrow:before {color: black;}#sk-container-id-2 div.sk-toggleable__content {max-height: 0;max-width: 0;overflow: hidden;text-align: left;background-color: #f0f8ff;}#sk-container-id-2 div.sk-toggleable__content pre {margin: 0.2em;color: black;border-radius: 0.25em;background-color: #f0f8ff;}#sk-container-id-2 input.sk-toggleable__control:checked~div.sk-toggleable__content {max-height: 200px;max-width: 100%;overflow: auto;}#sk-container-id-2 input.sk-toggleable__control:checked~label.sk-toggleable__label-arrow:before {content: \"▾\";}#sk-container-id-2 div.sk-estimator input.sk-toggleable__control:checked~label.sk-toggleable__label {background-color: #d4ebff;}#sk-container-id-2 div.sk-label input.sk-toggleable__control:checked~label.sk-toggleable__label {background-color: #d4ebff;}#sk-container-id-2 input.sk-hidden--visually {border: 0;clip: rect(1px 1px 1px 1px);clip: rect(1px, 1px, 1px, 1px);height: 1px;margin: -1px;overflow: hidden;padding: 0;position: absolute;width: 1px;}#sk-container-id-2 div.sk-estimator {font-family: monospace;background-color: #f0f8ff;border: 1px dotted black;border-radius: 0.25em;box-sizing: border-box;margin-bottom: 0.5em;}#sk-container-id-2 div.sk-estimator:hover {background-color: #d4ebff;}#sk-container-id-2 div.sk-parallel-item::after {content: \"\";width: 100%;border-bottom: 1px solid gray;flex-grow: 1;}#sk-container-id-2 div.sk-label:hover label.sk-toggleable__label {background-color: #d4ebff;}#sk-container-id-2 div.sk-serial::before {content: \"\";position: absolute;border-left: 1px solid gray;box-sizing: border-box;top: 0;bottom: 0;left: 50%;z-index: 0;}#sk-container-id-2 div.sk-serial {display: flex;flex-direction: column;align-items: center;background-color: white;padding-right: 0.2em;padding-left: 0.2em;position: relative;}#sk-container-id-2 div.sk-item {position: relative;z-index: 1;}#sk-container-id-2 div.sk-parallel {display: flex;align-items: stretch;justify-content: center;background-color: white;position: relative;}#sk-container-id-2 div.sk-item::before, #sk-container-id-2 div.sk-parallel-item::before {content: \"\";position: absolute;border-left: 1px solid gray;box-sizing: border-box;top: 0;bottom: 0;left: 50%;z-index: -1;}#sk-container-id-2 div.sk-parallel-item {display: flex;flex-direction: column;z-index: 1;position: relative;background-color: white;}#sk-container-id-2 div.sk-parallel-item:first-child::after {align-self: flex-end;width: 50%;}#sk-container-id-2 div.sk-parallel-item:last-child::after {align-self: flex-start;width: 50%;}#sk-container-id-2 div.sk-parallel-item:only-child::after {width: 0;}#sk-container-id-2 div.sk-dashed-wrapped {border: 1px dashed gray;margin: 0 0.4em 0.5em 0.4em;box-sizing: border-box;padding-bottom: 0.4em;background-color: white;}#sk-container-id-2 div.sk-label label {font-family: monospace;font-weight: bold;display: inline-block;line-height: 1.2em;}#sk-container-id-2 div.sk-label-container {text-align: center;}#sk-container-id-2 div.sk-container {/* jupyter's `normalize.less` sets `[hidden] { display: none; }` but bootstrap.min.css set `[hidden] { display: none !important; }` so we also need the `!important` here to be able to override the default hidden behavior on the sphinx rendered scikit-learn.org. See: https://github.com/scikit-learn/scikit-learn/issues/21755 */display: inline-block !important;position: relative;}#sk-container-id-2 div.sk-text-repr-fallback {display: none;}</style><div id=\"sk-container-id-2\" class=\"sk-top-container\"><div class=\"sk-text-repr-fallback\"><pre>GridSearchCV(cv=StratifiedKFold(n_splits=5, random_state=None, shuffle=False),\n",
       "             estimator=GaussianNB(), n_jobs=-1,\n",
       "             param_grid={&#x27;var_smoothing&#x27;: [1e-09, 1e-08, 1e-07, 1e-07, 1e-07,\n",
       "                                           1e-06, 1e-05, 0.0001, 0.001, 0.01,\n",
       "                                           0.1]},\n",
       "             scoring=&#x27;recall&#x27;, verbose=1)</pre><b>In a Jupyter environment, please rerun this cell to show the HTML representation or trust the notebook. <br />On GitHub, the HTML representation is unable to render, please try loading this page with nbviewer.org.</b></div><div class=\"sk-container\" hidden><div class=\"sk-item sk-dashed-wrapped\"><div class=\"sk-label-container\"><div class=\"sk-label sk-toggleable\"><input class=\"sk-toggleable__control sk-hidden--visually\" id=\"sk-estimator-id-8\" type=\"checkbox\" ><label for=\"sk-estimator-id-8\" class=\"sk-toggleable__label sk-toggleable__label-arrow\">GridSearchCV</label><div class=\"sk-toggleable__content\"><pre>GridSearchCV(cv=StratifiedKFold(n_splits=5, random_state=None, shuffle=False),\n",
       "             estimator=GaussianNB(), n_jobs=-1,\n",
       "             param_grid={&#x27;var_smoothing&#x27;: [1e-09, 1e-08, 1e-07, 1e-07, 1e-07,\n",
       "                                           1e-06, 1e-05, 0.0001, 0.001, 0.01,\n",
       "                                           0.1]},\n",
       "             scoring=&#x27;recall&#x27;, verbose=1)</pre></div></div></div><div class=\"sk-parallel\"><div class=\"sk-parallel-item\"><div class=\"sk-item\"><div class=\"sk-label-container\"><div class=\"sk-label sk-toggleable\"><input class=\"sk-toggleable__control sk-hidden--visually\" id=\"sk-estimator-id-9\" type=\"checkbox\" ><label for=\"sk-estimator-id-9\" class=\"sk-toggleable__label sk-toggleable__label-arrow\">estimator: GaussianNB</label><div class=\"sk-toggleable__content\"><pre>GaussianNB()</pre></div></div></div><div class=\"sk-serial\"><div class=\"sk-item\"><div class=\"sk-estimator sk-toggleable\"><input class=\"sk-toggleable__control sk-hidden--visually\" id=\"sk-estimator-id-10\" type=\"checkbox\" ><label for=\"sk-estimator-id-10\" class=\"sk-toggleable__label sk-toggleable__label-arrow\">GaussianNB</label><div class=\"sk-toggleable__content\"><pre>GaussianNB()</pre></div></div></div></div></div></div></div></div></div></div>"
      ],
      "text/plain": [
       "GridSearchCV(cv=StratifiedKFold(n_splits=5, random_state=None, shuffle=False),\n",
       "             estimator=GaussianNB(), n_jobs=-1,\n",
       "             param_grid={'var_smoothing': [1e-09, 1e-08, 1e-07, 1e-07, 1e-07,\n",
       "                                           1e-06, 1e-05, 0.0001, 0.001, 0.01,\n",
       "                                           0.1]},\n",
       "             scoring='recall', verbose=1)"
      ]
     },
     "execution_count": 49,
     "metadata": {},
     "output_type": "execute_result"
    }
   ],
   "source": [
    "nb_grid = GridSearchCV(estimator=nb, param_grid=params, n_jobs=-1, cv=skfold, verbose=1, scoring='recall')\n",
    "nb_grid.fit(X_train_transformed,y_train)"
   ]
  },
  {
   "cell_type": "code",
   "execution_count": 50,
   "id": "16b682a3",
   "metadata": {},
   "outputs": [
    {
     "data": {
      "text/html": [
       "<style>#sk-container-id-3 {color: black;background-color: white;}#sk-container-id-3 pre{padding: 0;}#sk-container-id-3 div.sk-toggleable {background-color: white;}#sk-container-id-3 label.sk-toggleable__label {cursor: pointer;display: block;width: 100%;margin-bottom: 0;padding: 0.3em;box-sizing: border-box;text-align: center;}#sk-container-id-3 label.sk-toggleable__label-arrow:before {content: \"▸\";float: left;margin-right: 0.25em;color: #696969;}#sk-container-id-3 label.sk-toggleable__label-arrow:hover:before {color: black;}#sk-container-id-3 div.sk-estimator:hover label.sk-toggleable__label-arrow:before {color: black;}#sk-container-id-3 div.sk-toggleable__content {max-height: 0;max-width: 0;overflow: hidden;text-align: left;background-color: #f0f8ff;}#sk-container-id-3 div.sk-toggleable__content pre {margin: 0.2em;color: black;border-radius: 0.25em;background-color: #f0f8ff;}#sk-container-id-3 input.sk-toggleable__control:checked~div.sk-toggleable__content {max-height: 200px;max-width: 100%;overflow: auto;}#sk-container-id-3 input.sk-toggleable__control:checked~label.sk-toggleable__label-arrow:before {content: \"▾\";}#sk-container-id-3 div.sk-estimator input.sk-toggleable__control:checked~label.sk-toggleable__label {background-color: #d4ebff;}#sk-container-id-3 div.sk-label input.sk-toggleable__control:checked~label.sk-toggleable__label {background-color: #d4ebff;}#sk-container-id-3 input.sk-hidden--visually {border: 0;clip: rect(1px 1px 1px 1px);clip: rect(1px, 1px, 1px, 1px);height: 1px;margin: -1px;overflow: hidden;padding: 0;position: absolute;width: 1px;}#sk-container-id-3 div.sk-estimator {font-family: monospace;background-color: #f0f8ff;border: 1px dotted black;border-radius: 0.25em;box-sizing: border-box;margin-bottom: 0.5em;}#sk-container-id-3 div.sk-estimator:hover {background-color: #d4ebff;}#sk-container-id-3 div.sk-parallel-item::after {content: \"\";width: 100%;border-bottom: 1px solid gray;flex-grow: 1;}#sk-container-id-3 div.sk-label:hover label.sk-toggleable__label {background-color: #d4ebff;}#sk-container-id-3 div.sk-serial::before {content: \"\";position: absolute;border-left: 1px solid gray;box-sizing: border-box;top: 0;bottom: 0;left: 50%;z-index: 0;}#sk-container-id-3 div.sk-serial {display: flex;flex-direction: column;align-items: center;background-color: white;padding-right: 0.2em;padding-left: 0.2em;position: relative;}#sk-container-id-3 div.sk-item {position: relative;z-index: 1;}#sk-container-id-3 div.sk-parallel {display: flex;align-items: stretch;justify-content: center;background-color: white;position: relative;}#sk-container-id-3 div.sk-item::before, #sk-container-id-3 div.sk-parallel-item::before {content: \"\";position: absolute;border-left: 1px solid gray;box-sizing: border-box;top: 0;bottom: 0;left: 50%;z-index: -1;}#sk-container-id-3 div.sk-parallel-item {display: flex;flex-direction: column;z-index: 1;position: relative;background-color: white;}#sk-container-id-3 div.sk-parallel-item:first-child::after {align-self: flex-end;width: 50%;}#sk-container-id-3 div.sk-parallel-item:last-child::after {align-self: flex-start;width: 50%;}#sk-container-id-3 div.sk-parallel-item:only-child::after {width: 0;}#sk-container-id-3 div.sk-dashed-wrapped {border: 1px dashed gray;margin: 0 0.4em 0.5em 0.4em;box-sizing: border-box;padding-bottom: 0.4em;background-color: white;}#sk-container-id-3 div.sk-label label {font-family: monospace;font-weight: bold;display: inline-block;line-height: 1.2em;}#sk-container-id-3 div.sk-label-container {text-align: center;}#sk-container-id-3 div.sk-container {/* jupyter's `normalize.less` sets `[hidden] { display: none; }` but bootstrap.min.css set `[hidden] { display: none !important; }` so we also need the `!important` here to be able to override the default hidden behavior on the sphinx rendered scikit-learn.org. See: https://github.com/scikit-learn/scikit-learn/issues/21755 */display: inline-block !important;position: relative;}#sk-container-id-3 div.sk-text-repr-fallback {display: none;}</style><div id=\"sk-container-id-3\" class=\"sk-top-container\"><div class=\"sk-text-repr-fallback\"><pre>GaussianNB()</pre><b>In a Jupyter environment, please rerun this cell to show the HTML representation or trust the notebook. <br />On GitHub, the HTML representation is unable to render, please try loading this page with nbviewer.org.</b></div><div class=\"sk-container\" hidden><div class=\"sk-item\"><div class=\"sk-estimator sk-toggleable\"><input class=\"sk-toggleable__control sk-hidden--visually\" id=\"sk-estimator-id-11\" type=\"checkbox\" checked><label for=\"sk-estimator-id-11\" class=\"sk-toggleable__label sk-toggleable__label-arrow\">GaussianNB</label><div class=\"sk-toggleable__content\"><pre>GaussianNB()</pre></div></div></div></div></div>"
      ],
      "text/plain": [
       "GaussianNB()"
      ]
     },
     "execution_count": 50,
     "metadata": {},
     "output_type": "execute_result"
    }
   ],
   "source": [
    "nb_grid.best_estimator_"
   ]
  },
  {
   "cell_type": "markdown",
   "id": "99bd1e53-bb4a-434f-9493-72765aea475e",
   "metadata": {},
   "source": [
    "# Naive Bayes Base Model vs Tuned Naive Bayes Model"
   ]
  },
  {
   "cell_type": "markdown",
   "id": "217d03ac-1e37-47e7-b5e8-76e6f4eb51ee",
   "metadata": {
    "tags": []
   },
   "source": [
    ">**Base Model (Sebelum Hyperparameter Tuning)**"
   ]
  },
  {
   "cell_type": "code",
   "execution_count": 51,
   "id": "7559862c-2131-4795-b10b-3b92a9391a89",
   "metadata": {},
   "outputs": [],
   "source": [
    "nb_base = GaussianNB()\n",
    "nb_base.fit(X_train_transformed, y_train)\n",
    "y_hat_nb_base_train = nb_base.predict(X_train_transformed)"
   ]
  },
  {
   "cell_type": "code",
   "execution_count": 52,
   "id": "4d68c6de-b623-4c57-994c-3a112ae0bb06",
   "metadata": {},
   "outputs": [
    {
     "name": "stdout",
     "output_type": "stream",
     "text": [
      "              precision    recall  f1-score   support\n",
      "\n",
      "           0       0.94      0.07      0.13     19512\n",
      "           1       0.34      0.99      0.51      9508\n",
      "\n",
      "    accuracy                           0.37     29020\n",
      "   macro avg       0.64      0.53      0.32     29020\n",
      "weighted avg       0.74      0.37      0.26     29020\n",
      "\n"
     ]
    }
   ],
   "source": [
    "print(classification_report(y_train, y_hat_nb_base_train))"
   ]
  },
  {
   "cell_type": "markdown",
   "id": "e8309abf-b55d-46e5-a333-ea59a258a9e7",
   "metadata": {},
   "source": [
    "> **Tuned Naive Bayes (Setelah Hyperparameter Tuning)**"
   ]
  },
  {
   "cell_type": "code",
   "execution_count": 53,
   "id": "d11a428e-75a3-4236-8294-02dbfc9785ea",
   "metadata": {},
   "outputs": [],
   "source": [
    "y_hat_nb_grid_train = nb_grid.predict(X_train_transformed)"
   ]
  },
  {
   "cell_type": "code",
   "execution_count": 54,
   "id": "a7c8997b-19f7-4609-aaff-9790cebf2a54",
   "metadata": {},
   "outputs": [
    {
     "name": "stdout",
     "output_type": "stream",
     "text": [
      "              precision    recall  f1-score   support\n",
      "\n",
      "           0       0.94      0.07      0.13     19512\n",
      "           1       0.34      0.99      0.51      9508\n",
      "\n",
      "    accuracy                           0.37     29020\n",
      "   macro avg       0.64      0.53      0.32     29020\n",
      "weighted avg       0.74      0.37      0.26     29020\n",
      "\n"
     ]
    }
   ],
   "source": [
    "print(classification_report(y_train, y_hat_nb_grid_train))"
   ]
  },
  {
   "cell_type": "markdown",
   "id": "6acf4c7e-b54b-4ff7-9e28-906ebd41c83e",
   "metadata": {},
   "source": [
    "Tidak ada improvement pada recall score model naive bayes. Kita juga bisa melihat bahwa score-score selain recall score juga tidak mengalami perubahan.   "
   ]
  },
  {
   "cell_type": "markdown",
   "id": "522f007e-f6ba-417a-a6ab-0022c53fc151",
   "metadata": {},
   "source": [
    "# Model Generalization to Testing Set"
   ]
  },
  {
   "cell_type": "markdown",
   "id": "a3348ee7-d714-415c-a424-a703bdec1cec",
   "metadata": {},
   "source": [
    "## Berapa Gap antara Recall, Precision di Training Set dan Recall, Precision Testing Set?"
   ]
  },
  {
   "cell_type": "code",
   "execution_count": 55,
   "id": "159cb838-c0f3-436c-9901-530cb3be4c20",
   "metadata": {},
   "outputs": [],
   "source": [
    "y_hat_nb_grid_train = nb_grid.predict(X_train_transformed)\n",
    "y_hat_nb_grid_test = nb_grid.predict(X_test_transformed)\n",
    "\n",
    "recall_nb_grid_train = recall_score(y_train, y_hat_nb_grid_train)\n",
    "recall_nb_grid_test = recall_score(y_test, y_hat_nb_grid_test)\n",
    "\n",
    "precision_nb_grid_train = precision_score(y_train, y_hat_nb_grid_train)\n",
    "precision_nb_grid_test = precision_score(y_test, y_hat_nb_grid_test)"
   ]
  },
  {
   "cell_type": "code",
   "execution_count": 56,
   "id": "d0891dd4-c427-4dad-96c8-317d8264f89d",
   "metadata": {},
   "outputs": [
    {
     "data": {
      "text/html": [
       "<div>\n",
       "<style scoped>\n",
       "    .dataframe tbody tr th:only-of-type {\n",
       "        vertical-align: middle;\n",
       "    }\n",
       "\n",
       "    .dataframe tbody tr th {\n",
       "        vertical-align: top;\n",
       "    }\n",
       "\n",
       "    .dataframe thead th {\n",
       "        text-align: right;\n",
       "    }\n",
       "</style>\n",
       "<table border=\"1\" class=\"dataframe\">\n",
       "  <thead>\n",
       "    <tr style=\"text-align: right;\">\n",
       "      <th></th>\n",
       "      <th>Recall</th>\n",
       "      <th>Precision</th>\n",
       "    </tr>\n",
       "  </thead>\n",
       "  <tbody>\n",
       "    <tr>\n",
       "      <th>Train Set</th>\n",
       "      <td>0.990219</td>\n",
       "      <td>0.342177</td>\n",
       "    </tr>\n",
       "    <tr>\n",
       "      <th>Test Set</th>\n",
       "      <td>0.984434</td>\n",
       "      <td>0.341855</td>\n",
       "    </tr>\n",
       "  </tbody>\n",
       "</table>\n",
       "</div>"
      ],
      "text/plain": [
       "             Recall  Precision\n",
       "Train Set  0.990219   0.342177\n",
       "Test Set   0.984434   0.341855"
      ]
     },
     "execution_count": 56,
     "metadata": {},
     "output_type": "execute_result"
    }
   ],
   "source": [
    "pd.DataFrame({'Recall':[recall_nb_grid_train, recall_nb_grid_test],\n",
    "             'Precision':[precision_nb_grid_train, precision_nb_grid_test],\n",
    "             }, \n",
    "             index=['Train Set', 'Test Set'])"
   ]
  },
  {
   "cell_type": "markdown",
   "id": "51651f81-3c1d-4ba5-a017-744eaaf5b168",
   "metadata": {},
   "source": [
    "Model Naive Bayes kita dapat melakukan generalisasi ke testing set dengan baik. Model kita hanya mempunyai gap 0.5% pada recall score training set dan testing set, lalu 0% gap pada precision score. Hal ini dapat membuktikan bahwa model kita adalah **good fit.** Model dengan recall score dan generalisasi yang bagus ini dapat membantu bisnis hotel kita karena jika kita memasukkan unseen data ke model ini kita dapat melakukan klasifikasi dengan akurat dan kemungkinam kita salah dalam melakukan klasifikasi pemesan yang punya kemungkinan untuk cancel kamar yang dipesan (False Negative) sangatlah kecil. Hal ini juga dapat memenuhi objective awal kita untuk mengurangi kerugian hotel karena banyak pemesan yang tiba-tiba melakukan pembatalan."
   ]
  },
  {
   "cell_type": "markdown",
   "id": "3ceae051-27a3-4b61-9518-74dfb1259229",
   "metadata": {},
   "source": [
    "## Melihat grafik train score dan test score dengan nilai var_smoothing yang berbeda (memakai base model)"
   ]
  },
  {
   "cell_type": "code",
   "execution_count": 57,
   "id": "d2bdc95f-08f2-4eef-b420-0f865faa33c0",
   "metadata": {},
   "outputs": [
    {
     "name": "stdout",
     "output_type": "stream",
     "text": [
      "1e-09, 0.990, 0.984\n",
      "1e-08, 0.990, 0.984\n",
      "1e-07, 0.990, 0.984\n",
      "1e-07, 0.990, 0.984\n",
      "1e-07, 0.990, 0.984\n",
      "1e-06, 0.990, 0.984\n",
      "1e-05, 0.990, 0.984\n",
      "0.0001, 0.990, 0.984\n",
      "0.001, 0.990, 0.984\n",
      "0.01, 0.625, 0.645\n",
      "0.1, 0.432, 0.449\n"
     ]
    },
    {
     "data": {
      "image/png": "[encoded data removed]",
      "text/plain": [
       "<Figure size 640x480 with 1 Axes>"
      ]
     },
     "metadata": {},
     "output_type": "display_data"
    }
   ],
   "source": [
    "train_scores = []\n",
    "test_scores = []\n",
    "var_smoothing = [0.000000001,0.00000001,0.0000001,0.0000001,0.0000001,0.000001,0.00001,0.0001,0.001,0.01,0.1]\n",
    "# var_smoothing = [0.0000000014242,0.00000001422556,0.000000175743,0.0000001313131,0.0000001414121,0.000001552522,0.00001131312,0.0001313131,0.0013131131,0.011313131,0.143435]\n",
    "\n",
    "for i in var_smoothing:\n",
    "    model = GaussianNB(var_smoothing=i)\n",
    "    model.fit(X_train_transformed, y_train)\n",
    "    y_train_hat = model.predict(X_train_transformed)\n",
    "    train_acc = recall_score(y_train, y_train_hat)\n",
    "    train_scores.append(train_acc)\n",
    "\n",
    "    y_test_hat = model.predict(X_test_transformed)\n",
    "    test_acc = recall_score(y_test, y_test_hat)\n",
    "    test_scores.append(test_acc)\n",
    "    \n",
    "    print(f'{i}, {train_acc:.3f}, {test_acc:.3f}')\n",
    "\n",
    "plt.plot(var_smoothing, train_scores, '-o', label='Train')\n",
    "plt.plot(var_smoothing, test_scores, '-o', label='Test')\n",
    "plt.legend();"
   ]
  },
  {
   "cell_type": "markdown",
   "id": "aa7e118b-3eeb-4020-921b-9819028999ed",
   "metadata": {},
   "source": [
    "Source : https://machinelearningmastery.com/overfitting-machine-learning-models/"
   ]
  },
  {
   "cell_type": "markdown",
   "id": "21614c49-7e5a-4375-8302-ebab526c264a",
   "metadata": {},
   "source": [
    "Dari grafik di atas, kita bisa melihat bahwa dengan model kita dicoba menggunakan nilai var_smoothing yang berbeda-beda, model kita memiliki performa yang hampir sama pada training set dan testing set. Hal ini menunjukkan bahwa model kita **good fit.**"
   ]
  },
  {
   "cell_type": "markdown",
   "id": "94248494-aa59-4ba8-8b61-5338fb06f29c",
   "metadata": {},
   "source": [
    "# False Negative Analysis"
   ]
  },
  {
   "cell_type": "code",
   "execution_count": 58,
   "id": "2616ef32-eb69-4a5a-b5a1-8ac2c7fd51be",
   "metadata": {},
   "outputs": [],
   "source": [
    "X_train_postive_negative = X_train.copy()\n",
    "X_train_postive_negative.loc[:,'y_true'] = y_train\n",
    "X_train_postive_negative.loc[:,'y_pred'] = y_hat_nb_grid_train\n",
    "# X_train_postive_negative['is_positive'] = np.where(X_train_postive_negative.y == 1, 'positive', 'negative')"
   ]
  },
  {
   "cell_type": "code",
   "execution_count": 59,
   "id": "460861b5-0e42-4f21-8cda-778b25a1abe7",
   "metadata": {},
   "outputs": [],
   "source": [
    "def _point_status(row):    \n",
    "    if (row['y_true'] == 0) & (row['y_pred'] == 0):\n",
    "        point = 'TN'\n",
    "    elif (row['y_true'] == 0) & (row['y_pred'] == 1):\n",
    "        point = 'FP'\n",
    "    elif (row['y_true'] == 1) & (row['y_pred'] == 1):\n",
    "        point = 'TP'\n",
    "    elif (row['y_true'] == 1) & (row['y_pred'] == 0):\n",
    "        point = \"FN\"\n",
    "        \n",
    "    return point"
   ]
  },
  {
   "cell_type": "code",
   "execution_count": 60,
   "id": "9af5c6c3-7b50-4187-b9aa-e83977b06308",
   "metadata": {},
   "outputs": [],
   "source": [
    "X_train_postive_negative['point_status'] = X_train_postive_negative.apply(_point_status, axis=1)"
   ]
  },
  {
   "cell_type": "code",
   "execution_count": 61,
   "id": "71c41bea-a932-48f3-9ebf-eb86e81f097b",
   "metadata": {},
   "outputs": [],
   "source": [
    "X_train_postive_negative_selected = X_train_postive_negative[['lead_time', 'repeated_guest', 'required_car_parking_space', 'y_true', 'y_pred', 'point_status']]"
   ]
  },
  {
   "cell_type": "code",
   "execution_count": 62,
   "id": "484e6814-51d5-4b16-9be6-bd2229f0b88b",
   "metadata": {},
   "outputs": [
    {
     "data": {
      "text/html": [
       "<div>\n",
       "<style scoped>\n",
       "    .dataframe tbody tr th:only-of-type {\n",
       "        vertical-align: middle;\n",
       "    }\n",
       "\n",
       "    .dataframe tbody tr th {\n",
       "        vertical-align: top;\n",
       "    }\n",
       "\n",
       "    .dataframe thead th {\n",
       "        text-align: right;\n",
       "    }\n",
       "</style>\n",
       "<table border=\"1\" class=\"dataframe\">\n",
       "  <thead>\n",
       "    <tr style=\"text-align: right;\">\n",
       "      <th></th>\n",
       "      <th>lead_time</th>\n",
       "    </tr>\n",
       "    <tr>\n",
       "      <th>point_status</th>\n",
       "      <th></th>\n",
       "    </tr>\n",
       "  </thead>\n",
       "  <tbody>\n",
       "    <tr>\n",
       "      <th>FN</th>\n",
       "      <td>194.784946</td>\n",
       "    </tr>\n",
       "    <tr>\n",
       "      <th>FP</th>\n",
       "      <td>61.540166</td>\n",
       "    </tr>\n",
       "    <tr>\n",
       "      <th>TN</th>\n",
       "      <td>25.215297</td>\n",
       "    </tr>\n",
       "    <tr>\n",
       "      <th>TP</th>\n",
       "      <td>137.840998</td>\n",
       "    </tr>\n",
       "  </tbody>\n",
       "</table>\n",
       "</div>"
      ],
      "text/plain": [
       "               lead_time\n",
       "point_status            \n",
       "FN            194.784946\n",
       "FP             61.540166\n",
       "TN             25.215297\n",
       "TP            137.840998"
      ]
     },
     "execution_count": 62,
     "metadata": {},
     "output_type": "execute_result"
    }
   ],
   "source": [
    "X_train_postive_negative_selected.groupby('point_status').agg({'lead_time':'mean'})"
   ]
  },
  {
   "cell_type": "markdown",
   "id": "47d1cd3d-025c-42bf-8d2a-ee97661dffa0",
   "metadata": {},
   "source": [
    "Informasi mengenai jarak hari pemesanan dan menginap tidak membuat model kita salah klasifikasi. Hal tersebut dapat ditunjukkan dengan karakteristik False Negative dan True Positive yang sama, yaitu memiliki rata-rata jarak hari pemesanan dan menginap yang jauh sekali."
   ]
  },
  {
   "cell_type": "code",
   "execution_count": 63,
   "id": "ec49b75b-8519-4320-a04a-aac74d3d66ed",
   "metadata": {},
   "outputs": [
    {
     "data": {
      "text/html": [
       "<div>\n",
       "<style scoped>\n",
       "    .dataframe tbody tr th:only-of-type {\n",
       "        vertical-align: middle;\n",
       "    }\n",
       "\n",
       "    .dataframe tbody tr th {\n",
       "        vertical-align: top;\n",
       "    }\n",
       "\n",
       "    .dataframe thead th {\n",
       "        text-align: right;\n",
       "    }\n",
       "</style>\n",
       "<table border=\"1\" class=\"dataframe\">\n",
       "  <thead>\n",
       "    <tr style=\"text-align: right;\">\n",
       "      <th></th>\n",
       "      <th>repeated_guest</th>\n",
       "    </tr>\n",
       "    <tr>\n",
       "      <th>point_status</th>\n",
       "      <th></th>\n",
       "    </tr>\n",
       "  </thead>\n",
       "  <tbody>\n",
       "    <tr>\n",
       "      <th>FN</th>\n",
       "      <td>13</td>\n",
       "    </tr>\n",
       "    <tr>\n",
       "      <th>FP</th>\n",
       "      <td>0</td>\n",
       "    </tr>\n",
       "    <tr>\n",
       "      <th>TN</th>\n",
       "      <td>739</td>\n",
       "    </tr>\n",
       "    <tr>\n",
       "      <th>TP</th>\n",
       "      <td>0</td>\n",
       "    </tr>\n",
       "  </tbody>\n",
       "</table>\n",
       "</div>"
      ],
      "text/plain": [
       "              repeated_guest\n",
       "point_status                \n",
       "FN                        13\n",
       "FP                         0\n",
       "TN                       739\n",
       "TP                         0"
      ]
     },
     "execution_count": 63,
     "metadata": {},
     "output_type": "execute_result"
    }
   ],
   "source": [
    "X_train_postive_negative_selected.groupby('point_status').agg({'repeated_guest':'sum'})"
   ]
  },
  {
   "cell_type": "markdown",
   "id": "f68bf942-fe06-46ad-b040-79abce9f3cf6",
   "metadata": {},
   "source": [
    "Informasi mengenai apakah pemesan adalah tamu yang pernah menginap di hotel kita atau tidak adalah informasi yang dapat membuat model kita bingung atau salah dalam melakukan klasifikasi kasus positive menjadi kasus negative (False Negative). Pada informasi ini, pemesan-pemesan yang masuk False Negative dan kasus negative memiliki karakteristik yang sama yaitu mereka adalah tamu yang pernah menginap di hotel kita."
   ]
  },
  {
   "cell_type": "code",
   "execution_count": 64,
   "id": "40e791a2-b1b2-4963-9906-95623cfef603",
   "metadata": {},
   "outputs": [
    {
     "data": {
      "text/html": [
       "<div>\n",
       "<style scoped>\n",
       "    .dataframe tbody tr th:only-of-type {\n",
       "        vertical-align: middle;\n",
       "    }\n",
       "\n",
       "    .dataframe tbody tr th {\n",
       "        vertical-align: top;\n",
       "    }\n",
       "\n",
       "    .dataframe thead th {\n",
       "        text-align: right;\n",
       "    }\n",
       "</style>\n",
       "<table border=\"1\" class=\"dataframe\">\n",
       "  <thead>\n",
       "    <tr style=\"text-align: right;\">\n",
       "      <th></th>\n",
       "      <th>required_car_parking_space</th>\n",
       "    </tr>\n",
       "    <tr>\n",
       "      <th>point_status</th>\n",
       "      <th></th>\n",
       "    </tr>\n",
       "  </thead>\n",
       "  <tbody>\n",
       "    <tr>\n",
       "      <th>FN</th>\n",
       "      <td>80</td>\n",
       "    </tr>\n",
       "    <tr>\n",
       "      <th>FP</th>\n",
       "      <td>0</td>\n",
       "    </tr>\n",
       "    <tr>\n",
       "      <th>TN</th>\n",
       "      <td>790</td>\n",
       "    </tr>\n",
       "    <tr>\n",
       "      <th>TP</th>\n",
       "      <td>0</td>\n",
       "    </tr>\n",
       "  </tbody>\n",
       "</table>\n",
       "</div>"
      ],
      "text/plain": [
       "              required_car_parking_space\n",
       "point_status                            \n",
       "FN                                    80\n",
       "FP                                     0\n",
       "TN                                   790\n",
       "TP                                     0"
      ]
     },
     "execution_count": 64,
     "metadata": {},
     "output_type": "execute_result"
    }
   ],
   "source": [
    "X_train_postive_negative_selected.groupby('point_status').agg({'required_car_parking_space':'sum'})"
   ]
  },
  {
   "cell_type": "markdown",
   "id": "81987061-3fd8-41f4-8387-b9cdfe8669fc",
   "metadata": {},
   "source": [
    "Informasi mengenai apakan pemesan kamar membutuhkan lahan parkir atau tidak adalah informasi yang juga dapat membuat model kita salam dalam melakukan klasifikasi kasus positive ke kasus negative (False Negative). Pada informasi ini, pemesan-pemesan yang ada pada kasus False Negative memiliki ciri-ciri yang sama dengan pemesan-pemesan pada kasus negative, yaitu mereka adalah tamu yang membutuhkan lahan parkir."
   ]
  },
  {
   "cell_type": "markdown",
   "id": "4be934dc-c746-4baf-966f-c2c2f0b12460",
   "metadata": {},
   "source": [
    "# Kelebihan dan Kekurangan Model"
   ]
  },
  {
   "cell_type": "markdown",
   "id": "ffc6a7b8-f971-4c14-b3e9-19d75e2c1b8c",
   "metadata": {},
   "source": [
    "## Kelebihan"
   ]
  },
  {
   "cell_type": "markdown",
   "id": "545b8295-623e-41a1-b6fb-2f5383b9f21d",
   "metadata": {},
   "source": [
    "* Mempunyai recall score yang tinggi\n",
    "* Dapat menekan jumlah false negative dengan baik\n",
    "* Model kita bisa melakukan generalisasi dengan baik\n",
    "* Bisa dibilang good fit"
   ]
  },
  {
   "cell_type": "markdown",
   "id": "72a949a6-6824-4616-b782-0c9a9f95aade",
   "metadata": {},
   "source": [
    "## Kekurangan"
   ]
  },
  {
   "cell_type": "markdown",
   "id": "e30f7080-780f-4f98-b904-cc2f89d60c19",
   "metadata": {},
   "source": [
    "* Susah dilakukan improvement dengan cara hyperparameter tuning dengan GridSearch\n",
    "* Hyperparameter yang dapat dituning sangat sedikit sekali\n",
    "* Tidak bisa melihat feature importance (feature selection dan feature importance berbeda)"
   ]
  },
  {
   "cell_type": "markdown",
   "id": "0ee625b9-ae4a-4160-817c-f9f529b13ebd",
   "metadata": {},
   "source": [
    "# Rekomendasi untuk Model Improvement"
   ]
  },
  {
   "cell_type": "markdown",
   "id": "ad019558-07c6-4c2f-aefd-5012b0b2fdef",
   "metadata": {},
   "source": [
    "* Jika ingin melihat trade off antara precision dan recall bisa melakukan perubahan kombinasi pada feature selection untuk numerical data dan categorical data."
   ]
  },
  {
   "cell_type": "markdown",
   "id": "0420fc43-3ee9-4a29-9519-55a2d0658fe2",
   "metadata": {},
   "source": [
    "# Overall Analysis (Kesimpulan)"
   ]
  },
  {
   "cell_type": "markdown",
   "id": "44e1002b-e7f4-411f-9417-0e8cf1b4e135",
   "metadata": {},
   "source": [
    "Saat masih melakukan EDA kita sudah berasumsi bahwa jarak hari antara hari pemesanan dan menginap akan melakukan klasifikasi apakah pemesan akan jadi menginap atau tidak dengan baik, sedangkan kita juga berasumsi bahwa features selain lead_time tidak dapat melakukan klasifikasi dengan baik. \n",
    "Untuk lead_time (jarak hari antara hari pemesanan dan menginap) asumsi kita benar, feature ini terpilih pada saat feature selection dari 12 numerical features. Untuk features lain, asumsi kita salah karena pada feature selection k=2 adalah jumlah optimal untuk dikombinasikan dengan feature lead_time. Dua feature tersebut adalah repeated_guest (informasi apakah pemesan pernah menginap di hotel kita atau tidak) dan required_car_parking_space (apakah pemesan membutuhkan lahan parkir ata tidak).  \n",
    "\n",
    "Setelah kita melakukan cross validation untuk memilih base model yang punya performa paling bagus, kita mendapatkan bahwa hanya Naive Bayes yang dapat melakukan klasifikasi dengan baik pada dataset ini berdasarkan recall score. Model Naive Bayes ini bahkan mendapatkan performa yang hampir sempurna yaitu recall score 99%. Sedangkan 6 model lainnya tidak mendapatkan recall score yang lebih dari 50%. Maka dari itu kita memilih Naive Bayes menjadi model machine learning kita untuk day-to-day bisnis hotel kita.  \n",
    "\n",
    "Kita sudah berusaha melakukan model improvement untuk Naive Bayes namun recall score yang kita dapat tidak berubah sama sekali dari recall score yang kita dapatkan pada base model. Hal ini bisa disebabkan oleh recall score kita yang sudah hampir sempurna atau bisa saja model naive bayes tidak dapat melakukan klasifikasi dengan benar pada kasus-kasus tertentu. \n",
    "\n",
    "Setelah melakukan testing model dengan menggunakan unseen data pada testing set, model kita terlihat dapat melakukan generalization dengan baik. Hal ini terbukti dengan nilai recall score training dan testing tidak jauh berbeda yaitu 99% saat training dan 98.5% saat testing. Kita juga membandingkan precision score yang mana hasil saat training dan testing juga tidak jauh berbeda yaitu dua-duanya mendapatkan 34.2%. Dari perbandingan inilah kita dapat mengetahui bahwa model kita good fit. Namun, kita juga melakukan perbandingan recall score saat training dan testing jika hyperparameter diubah. Kita menemukan bahwa model naive bayes melakukan generalization dengan baik. Proses ini juga menunjukkan bahwa model naive bayes kita adalah good fit model.\n",
    "\n",
    "Pemesan yang diklasifikasikan oleh model kita sebagai kasus negative yang sebenarnya masuk dalam kasus positive (False Negative) memiliki karakteristik yang sama dengan pemesan yang masuk dalam kasus negative, yaitu mereka adalah tamu yang pernah menginap di hotel kita atau pemesan yang membutuhkan lahan parkir."
   ]
  },
  {
   "cell_type": "markdown",
   "id": "53c08b14-6728-43a0-bff2-e5d197abb398",
   "metadata": {},
   "source": [
    "# Rekomendasi Bisnis"
   ]
  },
  {
   "cell_type": "markdown",
   "id": "0a57db92-4c80-4aa1-8d0b-a8982270dc9a",
   "metadata": {},
   "source": [
    "* Untuk kedapannya mungkin hotel kita harus memutuskan apakah informasi mengenai apakah pemesan adalah tamu yang pernah menginap di hotel kita atau apakah mereka membutuhkan lahan parkir bisa dijadikan indikator yang dapat menentukan pakah pemesan akan melakukan pembatan atau tidak. \n",
    "* Untuk mengurangi kemungkinan kerugian yang besar kita dapat melakukan pembatasan jarak hari pemesanan dan hari menginap, bisa 1 minggu atau 2 minggu.\n",
    "* Jika kita memilih 2 minggu sebagai jarak hari maksimum antara hari pemesanan dan hari menginap, kita dapat melakukan klarifikasi melalui telepon atau text untuk melakukan konfirmasi 1 minggu setelah pemesanan dan 1 minggu sebelum hari menginap, untuk menanyakan apakah pemesan jadi menginap di hotel kita atau tidak. Jika tidak, kita bisa langsung membuat kamar yang sudah dibatalkan menjadi available lagi dan diiklankan."
   ]
  },
  {
   "cell_type": "markdown",
   "id": "a74dadf8-c3d6-4e9e-a048-4c0c4d3dc24d",
   "metadata": {},
   "source": [
    "# Model Inference (Saving)"
   ]
  },
  {
   "cell_type": "code",
   "execution_count": 65,
   "id": "867a8cf2-c466-40d7-bae8-166aa6496171",
   "metadata": {},
   "outputs": [],
   "source": [
    "with open('pipe_preprocessing_best.pkl', 'wb') as file_1:\n",
    "    pickle.dump(pipe_preprocessing_best, file_1)\n",
    "    \n",
    "with open('nb_infer.pkl', 'wb') as file_2:\n",
    "    pickle.dump(nb_grid, file_2)"
   ]
  },
  {
   "cell_type": "code",
   "execution_count": null,
   "id": "c7958a98-daf8-41d6-987d-2d7c486d36a7",
   "metadata": {},
   "outputs": [],
   "source": []
  }
 ],
 "metadata": {
  "kernelspec": {
   "display_name": "Python 3 (ipykernel)",
   "language": "python",
   "name": "python3"
  },
  "language_info": {
   "codemirror_mode": {
    "name": "ipython",
    "version": 3
   },
   "file_extension": ".py",
   "mimetype": "text/x-python",
   "name": "python",
   "nbconvert_exporter": "python",
   "pygments_lexer": "ipython3",
   "version": "3.11.1"
  },
  "toc": {
   "base_numbering": 1,
   "nav_menu": {
    "height": "316.989px",
    "width": "261.261px"
   },
   "number_sections": true,
   "sideBar": true,
   "skip_h1_title": false,
   "title_cell": "Table of Contents",
   "title_sidebar": "Contents",
   "toc_cell": false,
   "toc_position": {},
   "toc_section_display": true,
   "toc_window_display": false
  },
  "toc-autonumbering": true
 },
 "nbformat": 4,
 "nbformat_minor": 5
}
